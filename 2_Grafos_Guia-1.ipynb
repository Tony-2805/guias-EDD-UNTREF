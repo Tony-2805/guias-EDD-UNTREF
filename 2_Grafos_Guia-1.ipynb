{
 "cells": [
  {
   "cell_type": "markdown",
   "id": "f05b7e77-8842-4ff5-bf9f-7433e68ccb68",
   "metadata": {
    "editable": false,
    "slideshow": {
     "slide_type": ""
    },
    "tags": []
   },
   "source": [
    "<p style=\"text-align: center\">\n",
    "    <img src=\"data:image/svg+xml,%3Csvg%20version%3D%221.2%22%20baseProfile%3D%22tiny%22%20xmlns%3D%22http%3A%2F%2Fwww.w3.org%2F2000%2Fsvg%22%20viewBox%3D%220%200%20136.5%2058%22%20height%3D%2250%22%20overflow%3D%22visible%22%20xml%3Aspace%3D%22preserve%22%3E%3Cg%20fill%3D%22%23141819%22%3E%3Cpath%20d%3D%22M0%2033.4h1v6.3c0%201.1.5%201.7%201.7%201.7s1.7-.5%201.7-1.7v-6.3h1v6.3c0%201.8-1%202.5-2.7%202.5-1.7.1-2.7-.7-2.7-2.5v-6.3zM8.1%2042.2v-8.8h1.3l3.2%207h.1v-7h1v8.8h-1.3l-3.3-7.3H9v7.3zM16.5%2033.4h1v8.7h-1zM24.4%2033.4h1l-2.3%208.8h-1.4l-2.3-8.8h1.1l1.9%207.5h.1zM27.4%2042.2v-8.8h4.7v.9h-3.7v2.9h3.2v.9h-3.2v3.2h3.9v.9zM35.3%2037.6h1.8c1.1%200%201.6-.5%201.6-1.6s-.5-1.6-1.6-1.6h-1.8v3.2zm0%204.6h-1v-8.7h3c1.6%200%202.5.9%202.5%202.5%200%201.3-.6%202-1.2%202.3l1.3%203.9h-1.1l-1.2-3.6h-2.3v3.6zM46.7%2035.6c-.1-1-.6-1.4-1.7-1.4-1%200-1.7.4-1.7%201.4%200%201%20.8%201.2%201.9%201.6%201.4.4%202.7.9%202.7%202.6%200%201.7-1.1%202.5-2.8%202.5-1.8%200-2.8-.8-2.9-2.5l1-.1c.1%201.2.7%201.7%201.9%201.7%201.1%200%201.8-.5%201.8-1.5s-.6-1.3-1.9-1.7c-1.4-.4-2.6-.8-2.6-2.5s1.1-2.4%202.8-2.4c1.6%200%202.6.6%202.8%202.2l-1.3.1zM50.2%2033.4h1v8.7h-1zM55%2041.3h1.9c1%200%201.7-.5%201.7-1.5v-4c0-1-.6-1.5-1.7-1.5H55v7zm-1-7.9h2.8c1.8%200%202.8.7%202.8%202.5v3.7c0%201.8-1%202.5-2.8%202.5H54v-8.7zM63.2%2039.1H66l-1.3-4.6h-.1l-1.4%204.6zm-.8%203.1h-1.1l2.6-8.7h1.5l2.6%208.7h-1.1l-.6-2.2H63l-.6%202.2zM70.9%2041.3h1.9c1%200%201.7-.5%201.7-1.5v-4c0-1-.6-1.5-1.7-1.5h-1.9v7zm-1.1-7.9h2.8c1.8%200%202.8.7%202.8%202.5v3.7c0%201.8-1%202.5-2.8%202.5h-2.8v-8.7zM81.3%2042.2v-8.8h1.3l3.2%207h.1v-7h1v8.8h-1.3l-3.3-7.3h-.1v7.3zM90.7%2039.1h2.8l-1.3-4.6H92l-1.3%204.6zm-.9%203.1h-1.1l2.6-8.7h1.5l2.6%208.7h-1.1l-.6-2.2h-3.3l-.6%202.2zM101.2%2036.1v-.4c0-1.1-.5-1.5-1.7-1.5-1.1%200-1.8.4-1.8%201.5v4.1c0%201.1.6%201.5%201.8%201.5%201.1%200%201.7-.5%201.7-1.5v-.4l1%20.1v.1c0%201.8-.9%202.6-2.7%202.6-1.8%200-2.8-.7-2.8-2.5v-4c0-1.8%201-2.5%202.8-2.5%201.8%200%202.7.7%202.7%202.6v.2l-1%20.1zM104.7%2033.4h1v8.7h-1zM109.3%2039.9c0%201.1.7%201.5%201.8%201.5s1.8-.4%201.8-1.5v-4.1c0-1.1-.7-1.5-1.8-1.5s-1.8.4-1.8%201.5v4.1zm-1-4.1c0-1.9%201-2.5%202.8-2.5%201.8%200%202.8.7%202.8%202.5v3.9c0%201.9-1%202.5-2.8%202.5-1.8%200-2.8-.7-2.8-2.5v-3.9zM116.5%2042.2v-8.8h1.3l3.2%207h.1v-7h.9v8.8h-1.2l-3.3-7.3h-.1v7.3zM125.9%2039.1h2.8l-1.3-4.6h-.1l-1.4%204.6zm-.9%203.1h-1.1l2.6-8.7h1.5l2.6%208.7h-1.1l-.6-2.1h-3.3l-.6%202.1zM132.5%2042.2v-8.8h1v7.9h3v.9zM1.2%2057h1.9c1%200%201.7-.5%201.7-1.5v-4c0-1-.6-1.5-1.7-1.5H1.2v7zM.1%2049.1H3c1.8%200%202.8.7%202.8%202.5v3.7c0%201.8-1%202.5-2.8%202.5H.1v-8.7zM8.3%2057.9v-8.8H13v.9H9.3v2.9h3.3v.9H9.3V57h3.9v.9zM19.7%2050.1h-2.1v-1h5.1v1h-2v7.8h-1zM25.6%2053.3h1.8c1.1%200%201.6-.5%201.6-1.6s-.5-1.6-1.6-1.6h-1.8v3.2zm0%204.6h-1v-8.7h3c1.6%200%202.5.9%202.5%202.5%200%201.3-.6%202-1.2%202.3l1.3%203.9h-1.1l-1.2-3.6h-2.3v3.6zM32.8%2057.9v-8.8h4.7v.9h-3.7v2.9H37v.9h-3.2V57h3.9v.9zM44%2051.3c-.1-1-.6-1.4-1.7-1.4-1%200-1.7.4-1.7%201.4%200%201%20.8%201.2%201.9%201.6%201.4.4%202.7.9%202.7%202.6%200%201.7-1.1%202.5-2.8%202.5-1.8%200-2.8-.8-2.9-2.5l1-.1c.1%201.2.7%201.7%201.9%201.7%201.1%200%201.8-.5%201.8-1.5s-.6-1.3-1.9-1.7c-1.4-.4-2.6-.8-2.6-2.5s1.1-2.4%202.8-2.4c1.6%200%202.6.6%202.8%202.2l-1.3.1zM51.8%2057h1.9c1.1%200%201.7-.5%201.7-1.5v-4c0-1-.6-1.5-1.7-1.5h-1.9v7zm-1-7.9h2.8c1.8%200%202.8.7%202.8%202.5v3.7c0%201.8-1%202.5-2.8%202.5h-2.8v-8.7zM58.9%2057.9v-8.8h4.7v.9h-3.7v2.9h3.3v.9h-3.3V57h3.9v.9zM69.2%2057.9v-8.8h4.4v.9h-3.4v2.9h3v.9h-3v4.1zM75.6%2057.9v-8.8h4.7v.9h-3.7v2.9h3.2v.9h-3.2V57h3.9v.9zM83.5%2057h2.1c1.1%200%201.7-.6%201.7-1.6%200-1.1-.6-1.6-1.7-1.6h-2V57zm0-4.1h2c1%200%201.5-.5%201.5-1.4%200-1-.5-1.4-1.5-1.4h-2v2.8zm-1-3.8h3.3c1.6%200%202.3.7%202.3%202.2%200%201-.3%201.6-1%201.9v.1c.6.2%201.2.9%201.2%202.1%200%201.5-.7%202.4-2.4%202.4h-3.4v-8.7zM91.9%2053.3h1.8c1.1%200%201.6-.5%201.6-1.6s-.5-1.6-1.6-1.6h-1.8v3.2zm0%204.6h-1v-8.7h3c1.6%200%202.5.9%202.5%202.5%200%201.3-.6%202-1.2%202.3l1.3%203.9h-1.1l-1.2-3.6h-2.3v3.6zM99%2057.9v-8.8h4.7v.9H100v2.9h3.3v.9H100V57h3.9v.9zM107%2053.3h1.8c1.1%200%201.6-.5%201.6-1.6s-.5-1.6-1.6-1.6H107v3.2zm0%204.6h-1v-8.7h3c1.6%200%202.5.9%202.5%202.5%200%201.3-.6%202-1.2%202.3l1.3%203.9h-1.1l-1.2-3.6H107v3.6zM114.9%2055.6c0%201.1.7%201.5%201.8%201.5s1.8-.4%201.8-1.5v-4.1c0-1.1-.7-1.5-1.8-1.5s-1.8.4-1.8%201.5v4.1zm-1-4.1c0-1.9%201-2.5%202.8-2.5%201.8%200%202.8.7%202.8%202.5v3.9c0%201.9-1%202.5-2.8%202.5-1.8%200-2.8-.7-2.8-2.5v-3.9zM0%2023.7h96.4v3.6H0zM69.1%2017.5V0h11.5v2.9h-8V7h7.3v2.9h-7.3v4.7H81v2.9H69.1zm16.2%200V0h11v2.9h-7.6V7h6.9v2.9h-6.9v7.6h-3.4zm-30.8%200H51V0h7.2C62.1%200%2064%201.8%2064%205.3c0%202.8-1.4%204.1-2.7%204.6l2.9%207.6h-3.8l-2.4-7h-3.5v7zm0-9.8h2.9c2%200%203-.6%203-2.5s-1-2.5-3-2.5h-2.9v5zM39.9%202.9h-4.4V0h12.4v2.9h-4.4v14.6H40V2.9zM18.8%2017.5V0h4.1l5.8%2011.7h.2V0h3.4v17.5h-4L22.2%205.3H22v12.2h-3.2zM.1%200h3.5v12.1c0%202%201%202.8%203%202.8s3-.8%203-2.8V0h3.5v12.1c0%203.8-2.3%205.7-6.5%205.7S.1%2015.9.1%2012.1V0z%22%2F%3E%3C%2Fg%3E%3C%2Fsvg%3E\" />\n",
    "</p>\n",
    "\n",
    "<h3 style=\"text-align: center\">Estructura de Datos</h3>\n",
    "\n",
    "<h2 style=\"text-align: center\">Guía 3: Grafos (primera parte)</h3>"
   ]
  },
  {
   "cell_type": "markdown",
   "id": "bb37ddd9-6839-4872-bcaf-a8e7ca3c3552",
   "metadata": {
    "editable": false,
    "slideshow": {
     "slide_type": ""
    },
    "tags": []
   },
   "source": [
    "**Ej 1**: Implemete la clase `Grafo` sobre una matríz de adyacencias. Se debe poder representar grafos dirigidos, no dirigidos, con pesos y sin pesos. El grafo debe soportar las siguientes operaciones:\n",
    "- Agregar un nodo\n",
    "- Eliminar un nodo\n",
    "- Agregar una arista (si los nodos no existen, se deben crear)\n",
    "- Eliminar una arista\n",
    "- Obtener los nodos adyacentes a un nodo\n",
    "- Obtener el peso de una arista\n",
    "- Obtener el grado de entrada de un nodo\n",
    "- Obtener el grado de salida de un nodo\n",
    "- Mostrar la matríz de adyacencias"
   ]
  },
  {
   "cell_type": "code",
   "execution_count": 17,
   "id": "5d2b5ac0-0b95-4c51-b5dd-8205d7f958b8",
   "metadata": {
    "editable": true,
    "slideshow": {
     "slide_type": ""
    },
    "tags": []
   },
   "outputs": [],
   "source": [
    "class Grafo:\n",
    "    \n",
    "    def __init__(self,dirigido=False,con_pesos=False):\n",
    "        self.dirigido = dirigido\n",
    "        self.con_peso = con_pesos\n",
    "        self.nodos = []\n",
    "        self.matriz = []\n",
    "    \n",
    "    def agregar_nodo(self,nodo):\n",
    "        self.nodos.append(nodo)\n",
    "        for fila in self.matriz:\n",
    "            fila.append(0)\n",
    "        self.matriz.append([0]*len(self.nodos))\n",
    "    \n",
    "    def eliminar_nodo(self,nodo):\n",
    "        try: \n",
    "            pos = self.nodos.index(nodo)\n",
    "            del self.nodos[pos]\n",
    "            for line in self.matriz:\n",
    "                del line[pos]\n",
    "            del self.matriz[pos]\n",
    "        \n",
    "        except ValueError:\n",
    "            print(f\"No se encuntra el nodo '{nodo}' en el grafo\")\n",
    "\n",
    "    def agregar_arista(self,nodoA,nodoB,peso=1):\n",
    "        if not nodoA in self.nodos:\n",
    "            self.agregar_nodo(nodoA)\n",
    "        if not nodoB in self.nodos:\n",
    "            self.agregar_nodo(nodoB)\n",
    "\n",
    "        posA = self.nodos.index(nodoA)\n",
    "        posB = self.nodos.index(nodoB)\n",
    "\n",
    "        self.matriz[posA][posB] = peso\n",
    "        if not self.dirigido:\n",
    "            self.matriz[posB][posA] = peso\n",
    "\n",
    "    def eliminar_arista(self,nodoA,nodoB):\n",
    "        try:\n",
    "            posA = self.nodos.index(nodoA)\n",
    "            posB = self.nodos.index(nodoB)\n",
    "            self.matriz[posA][posB] = 0\n",
    "            if not self.dirigido:\n",
    "                self.matriz[posB][posA] = 0\n",
    "        except ValueError:\n",
    "            print(f\"No existe alguna de las aristas: '{nodoA}/{nodoB}'\")\n",
    "\n",
    "    def adyacentes(self, nodo):\n",
    "        if nodo in self.nodos:\n",
    "            pos = self.nodos.index(nodo)\n",
    "            rt = []\n",
    "            for i, aristas in enumerate(self.matriz[pos]):\n",
    "                if  aristas != 0:\n",
    "                    rt.append(self.nodos[i])\n",
    "            return rt\n",
    "        else: \n",
    "            print(f\"No existe el nodo '{nodo}'\")\n",
    "            return\n",
    "    \n",
    "    def peso(self, nodoA,nodoB):\n",
    "        try:\n",
    "            posA = self.nodos.index(nodoA)\n",
    "            posB = self.nodos.index(nodoB)\n",
    "            return self.matriz[posA][posB]\n",
    "        \n",
    "        except ValueError:\n",
    "            print(f\"No existe alguna de las aristas: '{nodoA}/{nodoB}'\")\n",
    "    \n",
    "    def grado_entrada(self, nodo):\n",
    "        try:\n",
    "            pos = self.nodos.index(nodo)\n",
    "            contador = 0\n",
    "            for i,__ in enumerate(self.matriz):\n",
    "                if self.matriz[i][pos] != 0:\n",
    "                    contador += 1\n",
    "            \n",
    "            return contador\n",
    "        \n",
    "        except ValueError:\n",
    "            print(f\"No existe nodo: '{nodo}'\")\n",
    "    \n",
    "    def grado_salida(self, nodo):\n",
    "        try:\n",
    "            pos = self.nodos.index(nodo)\n",
    "            contador = 0\n",
    "            for pesos in self.matriz[pos]:\n",
    "                if pesos != 0:\n",
    "                    contador += 1\n",
    "            \n",
    "            return contador\n",
    "        \n",
    "        except ValueError:\n",
    "            print(f\"No existe nodo: '{nodo}'\")\n",
    "    \n",
    "    def mostrar_matriz(self):\n",
    "        print(\"   \", \"\".join(f\" {n} \" for n in self.nodos))\n",
    "        for i, fila in enumerate(self.matriz):\n",
    "            print(f\"{self.nodos[i]:>3} {fila}\")\n",
    "\n"
   ]
  },
  {
   "cell_type": "code",
   "execution_count": 18,
   "id": "c2c8ba18-528f-4548-a12d-6ffa4726e6d2",
   "metadata": {
    "editable": true,
    "slideshow": {
     "slide_type": ""
    },
    "tags": []
   },
   "outputs": [
    {
     "name": "stdout",
     "output_type": "stream",
     "text": [
      "     A  B  C  D \n",
      "  A [0, 1, 0, 1]\n",
      "  B [0, 0, 1, 1]\n",
      "  C [0, 0, 0, 1]\n",
      "  D [0, 0, 0, 0]\n",
      "Adyacentes de B: ['C', 'D']\n",
      "Grado entrada de C: 1\n",
      "Grado salida de B: 2\n",
      "Grado entrada de D: 3\n",
      "     A  B  C  D \n",
      "  A [0, 0, 0, 1]\n",
      "  B [0, 0, 1, 1]\n",
      "  C [0, 0, 0, 1]\n",
      "  D [0, 0, 0, 0]\n",
      "     A  C  D \n",
      "  A [0, 0, 1]\n",
      "  C [0, 0, 1]\n",
      "  D [0, 0, 0]\n",
      "     A  C \n",
      "  A [0, 0]\n",
      "  C [0, 0]\n"
     ]
    }
   ],
   "source": [
    "# Ejemplo de uso\n",
    "g = Grafo(dirigido=True, con_pesos=False)\n",
    "g.agregar_nodo(\"A\")\n",
    "g.agregar_nodo(\"B\")\n",
    "g.agregar_nodo(\"C\")\n",
    "g.agregar_nodo(\"D\")\n",
    "g.agregar_arista(\"A\", \"B\")\n",
    "g.agregar_arista(\"B\", \"C\")\n",
    "g.agregar_arista(\"B\", \"D\")\n",
    "g.agregar_arista(\"C\", \"D\")\n",
    "g.agregar_arista(\"A\", \"D\")\n",
    "g.mostrar_matriz()\n",
    "print(\"Adyacentes de B:\", g.adyacentes(\"B\"))\n",
    "print(\"Grado entrada de C:\", g.grado_entrada(\"C\"))\n",
    "print(\"Grado salida de B:\", g.grado_salida(\"B\"))\n",
    "print(\"Grado entrada de D:\", g.grado_entrada(\"D\"))\n",
    "g.eliminar_arista(\"A\", \"B\")\n",
    "g.mostrar_matriz()\n",
    "g.eliminar_nodo(\"B\")\n",
    "g.mostrar_matriz()\n",
    "g.eliminar_nodo(\"D\")\n",
    "g.mostrar_matriz()"
   ]
  },
  {
   "cell_type": "code",
   "execution_count": 5,
   "id": "cefc79b7",
   "metadata": {
    "editable": true,
    "slideshow": {
     "slide_type": ""
    },
    "tags": []
   },
   "outputs": [
    {
     "name": "stderr",
     "output_type": "stream",
     "text": [
      "test_adyacentes (__main__.TestGrafo.test_adyacentes) ... ok\n",
      "test_agregar_arista (__main__.TestGrafo.test_agregar_arista) ... ok\n",
      "test_agregar_nodo (__main__.TestGrafo.test_agregar_nodo) ... ok\n",
      "test_eliminar_arista (__main__.TestGrafo.test_eliminar_arista) ... ok\n",
      "test_eliminar_nodo (__main__.TestGrafo.test_eliminar_nodo) ... ok\n",
      "\n",
      "----------------------------------------------------------------------\n",
      "Ran 5 tests in 0.006s\n",
      "\n",
      "OK\n"
     ]
    },
    {
     "data": {
      "text/plain": [
       "True"
      ]
     },
     "execution_count": 5,
     "metadata": {},
     "output_type": "execute_result"
    }
   ],
   "source": [
    "from unittest import TestCase, main\n",
    "\n",
    "\n",
    "class TestGrafo(TestCase):\n",
    "    def setUp(self):\n",
    "        self.grafo_dirigido = Grafo(dirigido=True, con_pesos=False)\n",
    "        self.grafo_no_dirigido = Grafo(dirigido=False, con_pesos=False)\n",
    "        self.grafo_pesado = Grafo(dirigido=True, con_pesos=True)\n",
    "\n",
    "    def test_agregar_nodo(self):\n",
    "        self.grafo_dirigido.agregar_nodo(\"A\")\n",
    "        self.assertIn(\"A\", self.grafo_dirigido.nodos)\n",
    "        self.assertEqual(len(self.grafo_dirigido.matriz), 1)\n",
    "        self.assertEqual(len(self.grafo_dirigido.matriz[0]), 1)\n",
    "\n",
    "    def test_eliminar_nodo(self):\n",
    "        self.grafo_dirigido.agregar_nodo(\"A\")\n",
    "        self.grafo_dirigido.eliminar_nodo(\"A\")\n",
    "        self.assertNotIn(\"A\", self.grafo_dirigido.nodos)\n",
    "        self.assertEqual(len(self.grafo_dirigido.matriz), 0)\n",
    "\n",
    "    def test_agregar_arista(self):\n",
    "        self.grafo_dirigido.agregar_arista(\"A\", \"B\")\n",
    "        self.assertIn(\"A\", self.grafo_dirigido.nodos)\n",
    "        self.assertIn(\"B\", self.grafo_dirigido.nodos)\n",
    "        i, j = self.grafo_dirigido.nodos.index(\"A\"), self.grafo_dirigido.nodos.index(\"B\")\n",
    "        self.assertEqual(self.grafo_dirigido.matriz[i][j], 1)\n",
    "        self.assertEqual(self.grafo_dirigido.matriz[j][i], 0)\n",
    "\n",
    "    def test_eliminar_arista(self):\n",
    "        self.grafo_dirigido.agregar_arista(\"A\", \"B\")\n",
    "        self.grafo_dirigido.eliminar_arista(\"A\", \"B\")\n",
    "        i, j = self.grafo_dirigido.nodos.index(\"A\"), self.grafo_dirigido.nodos.index(\"B\")\n",
    "        self.assertEqual(self.grafo_dirigido.matriz[i][j], 0)\n",
    "\n",
    "    def test_adyacentes(self):\n",
    "        self.grafo_no_dirigido.agregar_arista(\"A\", \"B\")\n",
    "        self.grafo_no_dirigido.agregar_arista(\"A\", \"C\")\n",
    "        adyacentes_A = self.grafo_no_dirigido.adyacentes(\"A\")\n",
    "        self.assertEqual(set(adyacentes_A), {\"B\", \"C\"})\n",
    "\n",
    "\n",
    "test = main(argv=[\"\"], defaultTest=\"TestGrafo\", verbosity=2, exit=False)\n",
    "len(test.result.failures) == 0"
   ]
  },
  {
   "cell_type": "markdown",
   "id": "e95d3910-dbf5-4e1c-81ee-2e4e98835747",
   "metadata": {
    "editable": false,
    "slideshow": {
     "slide_type": ""
    },
    "tags": []
   },
   "source": [
    "**Ej 2**: Implementar el algoritmo de Kahn para calcular el orden topológico de un grafo dirigido acíclico (DAG). Si el grafo no es un DAG, se debe lanzar una excepción. Implementar sobre la clase `Grafo` del ejercicio anterior."
   ]
  },
  {
   "cell_type": "code",
   "execution_count": 6,
   "id": "84b59fae-873f-4867-a13e-43ac5cee14d6",
   "metadata": {
    "editable": true,
    "slideshow": {
     "slide_type": ""
    },
    "tags": []
   },
   "outputs": [],
   "source": [
    "# Algoritmo de Kahn para orden topológico\n",
    "\n",
    "\n",
    "def orden_topologico_kahn(grafo):\n",
    "    resultado = []\n",
    "    grados = {nodo: grafo.grado_entrada(nodo) for nodo in grafo.nodos}\n",
    "\n",
    "    cola = []\n",
    "    for nodo, grado in grados.items():\n",
    "        if grado == 0:\n",
    "            cola.append(nodo)\n",
    "    \n",
    "    \n",
    "    #si la cola esta vacia not fila devuelve true\n",
    "    while cola:\n",
    "        actual_nodo = cola.pop(0)\n",
    "        \n",
    "        #visitar\n",
    "        resultado.append(actual_nodo)\n",
    "\n",
    "        adyacentes = grafo.adyacentes(actual_nodo)\n",
    "\n",
    "        for n in adyacentes:\n",
    "            grados[n] = grados[n] -1\n",
    "\n",
    "            if grados[n] == 0:\n",
    "                cola.append(n)\n",
    "\n",
    "    if len(resultado) != len(grafo.nodos):\n",
    "        raise Exception(\"El grafo tiene ciclos, no es un DAG\")\n",
    "    \n",
    "    return resultado\n",
    "\n"
   ]
  },
  {
   "cell_type": "code",
   "execution_count": 7,
   "id": "77536d64",
   "metadata": {},
   "outputs": [
    {
     "name": "stdout",
     "output_type": "stream",
     "text": [
      "Matriz de adyacencia:\n",
      "Matriz de adyacencia:\n",
      "     A  B  C  D\n",
      "  A [0, 1, 1, 0]\n",
      "  B [0, 0, 0, 1]\n",
      "  C [0, 0, 0, 1]\n",
      "  D [0, 0, 0, 0]\n",
      "Orden topológico: ['A', 'B', 'C', 'D']\n",
      "Excepción esperada por ciclo: El grafo tiene ciclos, no es un DAG\n"
     ]
    }
   ],
   "source": [
    "# Ejemplo de uso del algoritmo de Kahn\n",
    "g2 = Grafo(dirigido=True)\n",
    "g2.agregar_nodo(\"A\")\n",
    "g2.agregar_nodo(\"B\")\n",
    "g2.agregar_nodo(\"C\")\n",
    "g2.agregar_nodo(\"D\")\n",
    "g2.agregar_arista(\"A\", \"B\")\n",
    "g2.agregar_arista(\"A\", \"C\")\n",
    "g2.agregar_arista(\"B\", \"D\")\n",
    "g2.agregar_arista(\"C\", \"D\")\n",
    "print(\"Matriz de adyacencia:\")\n",
    "g2.mostrar_matriz()\n",
    "print(\"Orden topológico:\", orden_topologico_kahn(g2))\n",
    "\n",
    "# Test de ciclo\n",
    "g2.agregar_arista(\"D\", \"A\")\n",
    "try:\n",
    "    orden_topologico_kahn(g2)\n",
    "except Exception as e:\n",
    "    print(\"Excepción esperada por ciclo:\", e)"
   ]
  },
  {
   "cell_type": "code",
   "execution_count": 8,
   "id": "e43e9f56",
   "metadata": {},
   "outputs": [
    {
     "name": "stderr",
     "output_type": "stream",
     "text": [
      "test_orden_topologico (__main__.TestOrdenTopologico.test_orden_topologico) ... ok\n",
      "test_orden_topologico_con_ciclo (__main__.TestOrdenTopologico.test_orden_topologico_con_ciclo) ... ok\n",
      "\n",
      "----------------------------------------------------------------------\n",
      "Ran 2 tests in 0.003s\n",
      "\n",
      "OK\n"
     ]
    },
    {
     "data": {
      "text/plain": [
       "True"
      ]
     },
     "execution_count": 8,
     "metadata": {},
     "output_type": "execute_result"
    }
   ],
   "source": [
    "from unittest import TestCase, main\n",
    "\n",
    "\n",
    "class TestOrdenTopologico(TestCase):\n",
    "    def setUp(self):\n",
    "        self.grafo = Grafo(dirigido=True)\n",
    "        self.grafo.agregar_nodo(\"A\")\n",
    "        self.grafo.agregar_nodo(\"B\")\n",
    "        self.grafo.agregar_nodo(\"C\")\n",
    "        self.grafo.agregar_arista(\"A\", \"B\")\n",
    "        self.grafo.agregar_arista(\"B\", \"C\")\n",
    "\n",
    "    def test_orden_topologico(self):\n",
    "        resultado = orden_topologico_kahn(self.grafo)\n",
    "        self.assertEqual(resultado, [\"A\", \"B\", \"C\"])\n",
    "\n",
    "    def test_orden_topologico_con_ciclo(self):\n",
    "        self.grafo.agregar_arista(\"C\", \"A\")\n",
    "        with self.assertRaises(Exception):\n",
    "            orden_topologico_kahn(self.grafo)\n",
    "\n",
    "\n",
    "test = main(argv=[\"\"], defaultTest=\"TestOrdenTopologico\", verbosity=2, exit=False)\n",
    "len(test.result.failures) == 0"
   ]
  },
  {
   "cell_type": "markdown",
   "id": "a7ab65bc-e4d1-4930-8f53-ea37a80aff94",
   "metadata": {
    "editable": false,
    "slideshow": {
     "slide_type": ""
    },
    "tags": []
   },
   "source": [
    "**Ej 3**: Implementar el algoritmo de Kahn sobre NetworkX."
   ]
  },
  {
   "cell_type": "code",
   "execution_count": 19,
   "id": "ca54119b",
   "metadata": {
    "editable": true,
    "slideshow": {
     "slide_type": ""
    },
    "tags": []
   },
   "outputs": [
    {
     "name": "stdout",
     "output_type": "stream",
     "text": [
      "Requirement already satisfied: networkx in c:\\users\\admin\\appdata\\local\\programs\\python\\python313\\lib\\site-packages (3.5)\n",
      "Note: you may need to restart the kernel to use updated packages.\n"
     ]
    }
   ],
   "source": [
    "# Para instalar networkx en Jupyter Notebook si todavía no está instalado ejecutar:\n",
    "%pip install networkx"
   ]
  },
  {
   "cell_type": "code",
   "execution_count": 9,
   "id": "cd927141-66e8-4d61-9598-15720d8c73a6",
   "metadata": {
    "editable": true,
    "slideshow": {
     "slide_type": ""
    },
    "tags": []
   },
   "outputs": [],
   "source": [
    "# Ejercicio 3: Algoritmo de Kahn usando NetworkX\n",
    "import networkx as nx\n",
    "\n",
    "\n",
    "def orden_topologico_kahn_nx(G):\n",
    "    cola = []\n",
    "    rta = []\n",
    "    grados = dict(G.in_degree())\n",
    "\n",
    "    for nodo, grado in grados.items():\n",
    "        if grado == 0: cola.append(nodo)\n",
    "    \n",
    "    while cola:\n",
    "        actual = cola.pop(0)\n",
    "        #visitar\n",
    "        rta.append(actual)\n",
    "\n",
    "        for vecino in G.neighbors(actual):\n",
    "            grados[vecino] = grados[vecino] - 1\n",
    "            if grados[vecino] == 0: cola.append(vecino)\n",
    "\n",
    "    if len(rta) != G.number_of_nodes():\n",
    "        raise Exception(\"El grafo contiene ciclos, no es un DAG\")\n",
    "    \n",
    "    return rta\n"
   ]
  },
  {
   "cell_type": "code",
   "execution_count": 10,
   "id": "4207d51f-4c68-4dd0-a554-8fa34a52ee18",
   "metadata": {
    "editable": true,
    "slideshow": {
     "slide_type": ""
    },
    "tags": []
   },
   "outputs": [
    {
     "name": "stdout",
     "output_type": "stream",
     "text": [
      "Orden topológico NetworkX: ['A', 'B', 'C', 'D', 'E', 'F']\n",
      "Excepción esperada por ciclo: El grafo contiene ciclos, no es un DAG\n"
     ]
    }
   ],
   "source": [
    "# Ejemplo de uso del algoritmo de Kahn con NetworkX\n",
    "G = nx.DiGraph()\n",
    "G.add_edges_from([(\"A\", \"B\"), (\"A\", \"C\"), (\"B\", \"D\"), (\"C\", \"D\"), (\"C\", \"E\"), (\"E\", \"F\")])\n",
    "print(\"Orden topológico NetworkX:\", orden_topologico_kahn_nx(G))\n",
    "\n",
    "# Test de ciclo\n",
    "G.add_edge(\"F\", \"A\")\n",
    "try:\n",
    "    orden_topologico_kahn_nx(G)\n",
    "except Exception as e:\n",
    "    print(\"Excepción esperada por ciclo:\", e)"
   ]
  },
  {
   "cell_type": "code",
   "execution_count": 11,
   "id": "fdcfa777",
   "metadata": {},
   "outputs": [
    {
     "name": "stderr",
     "output_type": "stream",
     "text": [
      "test_orden_topologico_nx (__main__.TestOrdenTopologicoNX.test_orden_topologico_nx) ... ok\n",
      "test_orden_topologico_nx_con_ciclo (__main__.TestOrdenTopologicoNX.test_orden_topologico_nx_con_ciclo) ... ok\n",
      "\n",
      "----------------------------------------------------------------------\n",
      "Ran 2 tests in 0.002s\n",
      "\n",
      "OK\n"
     ]
    },
    {
     "data": {
      "text/plain": [
       "True"
      ]
     },
     "execution_count": 11,
     "metadata": {},
     "output_type": "execute_result"
    }
   ],
   "source": [
    "from unittest import TestCase, main\n",
    "\n",
    "\n",
    "class TestOrdenTopologicoNX(TestCase):\n",
    "    def setUp(self):\n",
    "        self.G = nx.DiGraph()\n",
    "        self.G.add_edges_from([(\"A\", \"B\"), (\"B\", \"C\")])\n",
    "\n",
    "    def test_orden_topologico_nx(self):\n",
    "        resultado = orden_topologico_kahn_nx(self.G)\n",
    "        self.assertEqual(resultado, [\"A\", \"B\", \"C\"])\n",
    "\n",
    "    def test_orden_topologico_nx_con_ciclo(self):\n",
    "        self.G.add_edge(\"C\", \"A\")\n",
    "        with self.assertRaises(Exception):\n",
    "            orden_topologico_kahn_nx(self.G)\n",
    "\n",
    "\n",
    "test = main(argv=[\"\"], defaultTest=\"TestOrdenTopologicoNX\", verbosity=2, exit=False)\n",
    "len(test.result.failures) == 0"
   ]
  },
  {
   "cell_type": "markdown",
   "id": "2a92157f-8da8-43b4-957d-9ef1beb05ff2",
   "metadata": {
    "editable": false,
    "slideshow": {
     "slide_type": ""
    },
    "tags": []
   },
   "source": [
    "**Ej 4**: Mostrar paso a paso el algoritmo de Kahn sobre el siguiente grafo:\n",
    "\n",
    "```plaintext\n",
    "    A → B → D\n",
    "    ↓   ↓\n",
    "    C → E → F\n",
    "```"
   ]
  },
  {
   "cell_type": "markdown",
   "id": "bdc4c4be-7482-49a4-bd24-3571ee054284",
   "metadata": {
    "editable": true,
    "slideshow": {
     "slide_type": ""
    },
    "tags": []
   },
   "source": [
    "**Resolución Ejercicio 4**\n"
   ]
  },
  {
   "cell_type": "markdown",
   "id": "5d4f7ec7-e0ad-49e5-9e75-655895599660",
   "metadata": {
    "editable": false,
    "slideshow": {
     "slide_type": ""
    },
    "tags": []
   },
   "source": [
    "**Ej 5**: Dada la implementación de grafos sobre matriz de adyacencias del primer ejercicio, implementar el algoritmo de Orden Topológico usando una pila en lugar de una cola. ¿Qué diferencias hay entre usar una pila o una cola para implementar el algoritmo?"
   ]
  },
  {
   "cell_type": "code",
   "execution_count": 33,
   "id": "e5655f09-fae9-4344-a77f-83123da44bdd",
   "metadata": {
    "editable": true,
    "slideshow": {
     "slide_type": ""
    },
    "tags": []
   },
   "outputs": [],
   "source": [
    "# Ejercicio 5: Orden topológico usando pila\n",
    "\n",
    "\n",
    "def orden_topologico_pila(grafo):\n",
    "    stack = []\n",
    "    rta = []\n",
    "    grados = {nodo: grafo.grado_entrada(nodo) for nodo in grafo.nodos}\n",
    "\n",
    "    for nodo, grado in grados.items():\n",
    "        if grado == 0: stack.append(nodo)\n",
    "    \n",
    "    while stack:\n",
    "        actual = stack.pop(-1)\n",
    "        #visitar\n",
    "        rta.append(actual)\n",
    "\n",
    "        for ad in grafo.adyacentes(actual):\n",
    "            grados[ad] -= 1\n",
    "            \n",
    "            if grados[ad] == 0: stack.append(ad)\n",
    "    \n",
    "    if len(rta) != len(grafo.nodos):\n",
    "        raise Exception(\"El grafo tiene ciclos, no es un DAG\")\n",
    "    \n",
    "    return rta\n"
   ]
  },
  {
   "cell_type": "code",
   "execution_count": 34,
   "id": "3129b56f",
   "metadata": {},
   "outputs": [
    {
     "name": "stdout",
     "output_type": "stream",
     "text": [
      "Matriz de adyacencia (pila):\n",
      "     A  B  C  D \n",
      "  A [0, 1, 1, 0]\n",
      "  B [0, 0, 0, 1]\n",
      "  C [0, 0, 0, 1]\n",
      "  D [0, 0, 0, 0]\n",
      "Orden topológico (pila): ['A', 'C', 'B', 'D']\n",
      "Orden topológico (cola): ['A', 'B', 'C', 'D']\n"
     ]
    }
   ],
   "source": [
    "# Ejemplo de uso del algoritmo de Kahn con pila\n",
    "g3 = Grafo(dirigido=True)\n",
    "g3.agregar_nodo(\"A\")\n",
    "g3.agregar_nodo(\"B\")\n",
    "g3.agregar_nodo(\"C\")\n",
    "g3.agregar_nodo(\"D\")\n",
    "g3.agregar_arista(\"A\", \"B\")\n",
    "g3.agregar_arista(\"A\", \"C\")\n",
    "g3.agregar_arista(\"B\", \"D\")\n",
    "g3.agregar_arista(\"C\", \"D\")\n",
    "print(\"Matriz de adyacencia (pila):\")\n",
    "g3.mostrar_matriz()\n",
    "print(\"Orden topológico (pila):\", orden_topologico_pila(g3))\n",
    "print(\"Orden topológico (cola):\", orden_topologico_kahn(g3))"
   ]
  },
  {
   "cell_type": "code",
   "execution_count": null,
   "id": "7c3a1240-25a7-429e-9a6f-3bd2f794048e",
   "metadata": {
    "editable": true,
    "slideshow": {
     "slide_type": ""
    },
    "tags": []
   },
   "outputs": [],
   "source": [
    "from unittest import TestCase, main\n",
    "\n",
    "\n",
    "class TestOrdenTopologicoPila(TestCase):\n",
    "    def setUp(self):\n",
    "        self.grafo = Grafo(dirigido=True)\n",
    "        self.grafo.agregar_nodo(\"A\")\n",
    "\n",
    "\n",
    "\n",
    "\n",
    "        \n",
    "        self.grafo.agregar_nodo(\"B\")\n",
    "        self.grafo.agregar_nodo(\"C\")\n",
    "        self.grafo.agregar_arista(\"A\", \"B\")\n",
    "        self.grafo.agregar_arista(\"B\", \"C\")\n",
    "\n",
    "    def test_orden_topologico_pila(self):\n",
    "        resultado = orden_topologico_pila(self.grafo)\n",
    "        self.assertEqual(resultado, [\"A\", \"B\", \"C\"])\n",
    "\n",
    "    def test_orden_topologico_pila_con_ciclo(self):\n",
    "        self.grafo.agregar_arista(\"C\", \"A\")\n",
    "        with self.assertRaises(Exception):\n",
    "            orden_topologico_pila(self.grafo)\n",
    "\n",
    "\n",
    "test = main(argv=[\"\"], defaultTest=\"TestOrdenTopologicoNX\", verbosity=2, exit=False)\n",
    "len(test.result.failures) == 0"
   ]
  },
  {
   "cell_type": "markdown",
   "id": "38fdba27-5004-4431-a00e-8305318b531a",
   "metadata": {
    "editable": true,
    "slideshow": {
     "slide_type": ""
    },
    "tags": []
   },
   "source": [
    "**Diferencias entre usar pila o cola:**\n"
   ]
  },
  {
   "attachments": {},
   "cell_type": "markdown",
   "id": "28070546-ffda-4931-ae69-0b1bbfb39ad8",
   "metadata": {
    "editable": false,
    "slideshow": {
     "slide_type": ""
    },
    "tags": []
   },
   "source": [
    "**Ej 6**: Dado un grafo dirigido $G$, implementar una función `revertir` que calcule $G^T$, donde $G^T$ es el grafo que se obtiene con los mismos vértices de $G$ y revirtiendo las aristas, por ejemplo si en $G$ hay una arista con origen en $A$ y destino $B$, en $G^T$ esa arista tiene origen en $B$ y destino $A$. Implementar sobre la clase `Grafo` del primer ejercicio.\n",
    "\n",
    "```plaintext\n",
    "    G:\n",
    "        A → B → D\n",
    "        ↓   ↓\n",
    "        C → E → F\n",
    "\n",
    "    G^T:\n",
    "        A ← B ← D\n",
    "        ↑   ↑\n",
    "        C ← E ← F\n",
    "```"
   ]
  },
  {
   "cell_type": "code",
   "execution_count": 23,
   "id": "e1fce9bc-c8c5-4ca2-acf4-edcdddffab4f",
   "metadata": {
    "editable": true,
    "slideshow": {
     "slide_type": ""
    },
    "tags": []
   },
   "outputs": [],
   "source": [
    "def revertir(grafo):\n",
    "    gnuevo = Grafo(grafo.dirigido, grafo.con_peso)\n",
    "    for nodo in grafo.nodos:\n",
    "        gnuevo.agregar_nodo(nodo)\n",
    "    for nodo in grafo.nodos:\n",
    "        adyacentes = grafo.adyacentes(nodo)\n",
    "\n",
    "        for ad in adyacentes:\n",
    "            gnuevo.agregar_arista(ad,nodo, grafo.peso(nodo,ad))\n",
    "    \n",
    "    return gnuevo"
   ]
  },
  {
   "cell_type": "code",
   "execution_count": 24,
   "id": "31cc8f45-6814-436c-83f0-75b9c308e787",
   "metadata": {
    "editable": true,
    "slideshow": {
     "slide_type": ""
    },
    "tags": []
   },
   "outputs": [
    {
     "name": "stdout",
     "output_type": "stream",
     "text": [
      "Matriz original:\n",
      "     A  B  C  D  E  F \n",
      "  A [0, 1, 1, 0, 0, 0]\n",
      "  B [0, 0, 0, 1, 0, 0]\n",
      "  C [0, 0, 0, 1, 1, 0]\n",
      "  D [0, 0, 0, 0, 0, 0]\n",
      "  E [0, 0, 0, 0, 0, 1]\n",
      "  F [0, 0, 0, 0, 0, 0]\n",
      "Matriz transpuesta:\n",
      "     A  B  C  D  E  F \n",
      "  A [0, 0, 0, 0, 0, 0]\n",
      "  B [1, 0, 0, 0, 0, 0]\n",
      "  C [1, 0, 0, 0, 0, 0]\n",
      "  D [0, 1, 1, 0, 0, 0]\n",
      "  E [0, 0, 1, 0, 0, 0]\n",
      "  F [0, 0, 0, 0, 1, 0]\n"
     ]
    }
   ],
   "source": [
    "# Tests para revertir (transponer) un grafo\n",
    "g4 = Grafo(dirigido=True)\n",
    "g4.agregar_nodo(\"A\")\n",
    "g4.agregar_nodo(\"B\")\n",
    "g4.agregar_nodo(\"C\")\n",
    "g4.agregar_nodo(\"D\")\n",
    "g4.agregar_nodo(\"E\")\n",
    "g4.agregar_nodo(\"F\")\n",
    "g4.agregar_arista(\"A\", \"B\")\n",
    "g4.agregar_arista(\"A\", \"C\")\n",
    "g4.agregar_arista(\"B\", \"D\")\n",
    "g4.agregar_arista(\"C\", \"D\")\n",
    "g4.agregar_arista(\"C\", \"E\")\n",
    "g4.agregar_arista(\"E\", \"F\")\n",
    "print(\"Matriz original:\")\n",
    "g4.mostrar_matriz()\n",
    "g4t = revertir(g4)\n",
    "print(\"Matriz transpuesta:\")\n",
    "g4t.mostrar_matriz()"
   ]
  },
  {
   "cell_type": "code",
   "execution_count": 25,
   "id": "dcd482c1",
   "metadata": {},
   "outputs": [
    {
     "name": "stderr",
     "output_type": "stream",
     "text": [
      "test_orden_topologico_nx (__main__.TestOrdenTopologicoNX.test_orden_topologico_nx) ... ok\n",
      "test_orden_topologico_nx_con_ciclo (__main__.TestOrdenTopologicoNX.test_orden_topologico_nx_con_ciclo) ... ok\n",
      "\n",
      "----------------------------------------------------------------------\n",
      "Ran 2 tests in 0.002s\n",
      "\n",
      "OK\n"
     ]
    },
    {
     "data": {
      "text/plain": [
       "True"
      ]
     },
     "execution_count": 25,
     "metadata": {},
     "output_type": "execute_result"
    }
   ],
   "source": [
    "from unittest import TestCase, main\n",
    "\n",
    "\n",
    "class TestRevertir(TestCase):\n",
    "    def setUp(self):\n",
    "        self.grafo = Grafo(dirigido=True)\n",
    "        self.grafo.agregar_nodo(\"A\")\n",
    "        self.grafo.agregar_nodo(\"B\")\n",
    "        self.grafo.agregar_arista(\"A\", \"B\")\n",
    "\n",
    "    def test_revertir(self):\n",
    "        gt = revertir(self.grafo)\n",
    "        self.assertIn(\"A\", gt.nodos)\n",
    "        self.assertIn(\"B\", gt.nodos)\n",
    "        i, j = gt.nodos.index(\"B\"), gt.nodos.index(\"A\")\n",
    "        self.assertEqual(gt.matriz[i][j], 1)\n",
    "        self.assertEqual(gt.matriz[j][i], 0)\n",
    "\n",
    "    def test_revertir_no_dirigido(self):\n",
    "        g_no_dirigido = Grafo(dirigido=False)\n",
    "        g_no_dirigido.agregar_nodo(\"A\")\n",
    "        g_no_dirigido.agregar_nodo(\"B\")\n",
    "        g_no_dirigido.agregar_arista(\"A\", \"B\")\n",
    "        with self.assertRaises(Exception):\n",
    "            revertir(g_no_dirigido)\n",
    "\n",
    "\n",
    "test = main(argv=[\"\"], defaultTest=\"TestOrdenTopologicoNX\", verbosity=2, exit=False)\n",
    "len(test.result.failures) == 0"
   ]
  }
 ],
 "metadata": {
  "kernelspec": {
   "display_name": "Python 3",
   "language": "python",
   "name": "python3"
  },
  "language_info": {
   "codemirror_mode": {
    "name": "ipython",
    "version": 3
   },
   "file_extension": ".py",
   "mimetype": "text/x-python",
   "name": "python",
   "nbconvert_exporter": "python",
   "pygments_lexer": "ipython3",
   "version": "3.13.7"
  },
  "rise": {
   "start_slideshow_at": "beginning"
  }
 },
 "nbformat": 4,
 "nbformat_minor": 5
}
