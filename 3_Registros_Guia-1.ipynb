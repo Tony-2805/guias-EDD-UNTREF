{
 "cells": [
  {
   "cell_type": "markdown",
   "id": "f05b7e77-8842-4ff5-bf9f-7433e68ccb68",
   "metadata": {
    "editable": true,
    "slideshow": {
     "slide_type": ""
    },
    "tags": []
   },
   "source": [
    "<p style=\"text-align: center;\"><center><img src=\"data:image/svg+xml,%3Csvg%20version%3D%221.2%22%20baseProfile%3D%22tiny%22%20id%3D%22Capa_1%22%20xmlns%3D%22http%3A%2F%2Fwww.w3.org%2F2000%2Fsvg%22%20xmlns%3Axlink%3D%22http%3A%2F%2Fwww.w3.org%2F1999%2Fxlink%22%20x%3D%220px%22%20y%3D%220px%22%20viewBox%3D%220%200%20136.5%2058%22%20width%3D%22136%22%20height%3D%2258%22%20overflow%3D%22visible%22%20xml%3Aspace%3D%22preserve%22%3E%3Cstyle%20type%3D%22text%2Fcss%22%3Epath%2Cpolygon%2Crect%7Bfill%3A%231e1f1d%21important%7D%40media%20%28prefers-color-scheme%3Adark%29%7Bpath%2Cpolygon%2Crect%7Bfill%3A%23e1e0e2%21important%7D%7D%3C%2Fstyle%3E%3Cg%3E%3Cpath%20d%3D%22M0%2C33.4h1v6.3c0%2C1.1%2C0.5%2C1.7%2C1.7%2C1.7s1.7-0.5%2C1.7-1.7v-6.3h1v6.3c0%2C1.8-1%2C2.5-2.7%2C2.5C1%2C42.3%2C0%2C41.5%2C0%2C39.7%20V33.4z%22%3E%3C%2Fpath%3E%3Cpolygon%20points%3D%228.1%2C42.2%208.1%2C33.4%209.4%2C33.4%2012.6%2C40.4%2012.7%2C40.4%2012.7%2C33.4%2013.7%2C33.4%2013.7%2C42.2%2012.4%2C42.2%209.1%2C34.9%209%2C34.9%209%2C42.2%22%3E%3C%2Fpolygon%3E%3Crect%20x%3D%2216.5%22%20width%3D%221%22%20y%3D%2233.4%22%20height%3D%228.7%22%3E%3C%2Frect%3E%3Cpolygon%20points%3D%2224.4%2C33.4%2025.4%2C33.4%2023.1%2C42.2%2021.7%2C42.2%2019.4%2C33.4%2020.5%2C33.4%2022.4%2C40.9%2022.5%2C40.9%22%3E%3C%2Fpolygon%3E%3Cpolygon%20points%3D%2227.4%2C42.2%2027.4%2C33.4%2032.1%2C33.4%2032.1%2C34.3%2028.4%2C34.3%2028.4%2C37.2%2031.6%2C37.2%2031.6%2C38.1%2028.4%2C38.1%2028.4%2C41.3%2032.3%2C41.3%2032.3%2C42.2%22%3E%3C%2Fpolygon%3E%3Cpath%20d%3D%22M35.3%2C37.6h1.8c1.1%2C0%2C1.6-0.5%2C1.6-1.6c0-1.1-0.5-1.6-1.6-1.6h-1.8V37.6z%20M35.3%2C42.2h-1v-8.7h3%20c1.6%2C0%2C2.5%2C0.9%2C2.5%2C2.5c0%2C1.3-0.6%2C2-1.2%2C2.3l1.3%2C3.9h-1.1l-1.2-3.6h-2.3V42.2z%22%3E%3C%2Fpath%3E%3Cpath%20d%3D%22M46.7%2C35.6c-0.1-1-0.6-1.4-1.7-1.4c-1%2C0-1.7%2C0.4-1.7%2C1.4c0%2C1%2C0.8%2C1.2%2C1.9%2C1.6c1.4%2C0.4%2C2.7%2C0.9%2C2.7%2C2.6%20c0%2C1.7-1.1%2C2.5-2.8%2C2.5c-1.8%2C0-2.8-0.8-2.9-2.5l1-0.1c0.1%2C1.2%2C0.7%2C1.7%2C1.9%2C1.7c1.1%2C0%2C1.8-0.5%2C1.8-1.5c0-1-0.6-1.3-1.9-1.7%20c-1.4-0.4-2.6-0.8-2.6-2.5c0-1.7%2C1.1-2.4%2C2.8-2.4c1.6%2C0%2C2.6%2C0.6%2C2.8%2C2.2L46.7%2C35.6z%22%3E%3C%2Fpath%3E%3Crect%20x%3D%2250.2%22%20width%3D%221%22%20y%3D%2233.4%22%20height%3D%228.7%22%3E%3C%2Frect%3E%3Cpath%20d%3D%22M55%2C41.3h1.9c1%2C0%2C1.7-0.5%2C1.7-1.5v-4c0-1-0.6-1.5-1.7-1.5H55V41.3z%20M54%2C33.4h2.8c1.8%2C0%2C2.8%2C0.7%2C2.8%2C2.5v3.7%20c0%2C1.8-1%2C2.5-2.8%2C2.5H54V33.4z%22%3E%3C%2Fpath%3E%3Cpath%20d%3D%22M63.2%2C39.1H66l-1.3-4.6h-0.1L63.2%2C39.1z%20M62.4%2C42.2h-1.1l2.6-8.7h1.5l2.6%2C8.7h-1.1L66.3%2C40H63L62.4%2C42.2z%22%3E%3C%2Fpath%3E%3Cpath%20d%3D%22M70.9%2C41.3h1.9c1%2C0%2C1.7-0.5%2C1.7-1.5v-4c0-1-0.6-1.5-1.7-1.5h-1.9V41.3z%20M69.8%2C33.4h2.8%20c1.8%2C0%2C2.8%2C0.7%2C2.8%2C2.5v3.7c0%2C1.8-1%2C2.5-2.8%2C2.5h-2.8V33.4z%22%3E%3C%2Fpath%3E%3Cpolygon%20points%3D%2281.3%2C42.2%2081.3%2C33.4%2082.6%2C33.4%2085.8%2C40.4%2085.9%2C40.4%2085.9%2C33.4%2086.9%2C33.4%2086.9%2C42.2%2085.6%2C42.2%2082.3%2C34.9%2082.2%2C34.9%2082.2%2C42.2%22%3E%3C%2Fpolygon%3E%3Cpath%20d%3D%22M90.7%2C39.1h2.8l-1.3-4.6H92L90.7%2C39.1z%20M89.8%2C42.2h-1.1l2.6-8.7h1.5l2.6%2C8.7h-1.1L93.7%2C40h-3.3L89.8%2C42.2z%22%3E%3C%2Fpath%3E%3Cpath%20d%3D%22M101.2%2C36.1v-0.4c0-1.1-0.5-1.5-1.7-1.5c-1.1%2C0-1.8%2C0.4-1.8%2C1.5v4.1c0%2C1.1%2C0.6%2C1.5%2C1.8%2C1.5%20c1.1%2C0%2C1.7-0.5%2C1.7-1.5v-0.4l1%2C0.1v0.1c0%2C1.8-0.9%2C2.6-2.7%2C2.6c-1.8%2C0-2.8-0.7-2.8-2.5v-4c0-1.8%2C1-2.5%2C2.8-2.5%20c1.8%2C0%2C2.7%2C0.7%2C2.7%2C2.6V36L101.2%2C36.1z%22%3E%3C%2Fpath%3E%3Crect%20x%3D%22104.7%22%20width%3D%221%22%20y%3D%2233.4%22%20height%3D%228.7%22%3E%3C%2Frect%3E%3Cpath%20d%3D%22M109.3%2C39.9c0%2C1.1%2C0.7%2C1.5%2C1.8%2C1.5c1.1%2C0%2C1.8-0.4%2C1.8-1.5v-4.1c0-1.1-0.7-1.5-1.8-1.5%20c-1.1%2C0-1.8%2C0.4-1.8%2C1.5V39.9z%20M108.3%2C35.8c0-1.9%2C1-2.5%2C2.8-2.5c1.8%2C0%2C2.8%2C0.7%2C2.8%2C2.5v3.9c0%2C1.9-1%2C2.5-2.8%2C2.5%20c-1.8%2C0-2.8-0.7-2.8-2.5V35.8z%22%3E%3C%2Fpath%3E%3Cpolygon%20points%3D%22116.5%2C42.2%20116.5%2C33.4%20117.8%2C33.4%20121%2C40.4%20121.1%2C40.4%20121.1%2C33.4%20122%2C33.4%20122%2C42.2%20120.8%2C42.2%20117.5%2C34.9%20117.4%2C34.9%20117.4%2C42.2%22%3E%3C%2Fpolygon%3E%3Cpath%20d%3D%22M125.9%2C39.1h2.8l-1.3-4.6h-0.1L125.9%2C39.1z%20M125%2C42.2h-1.1l2.6-8.7h1.5l2.6%2C8.7h-1.1l-0.6-2.1h-3.3%20L125%2C42.2z%22%3E%3C%2Fpath%3E%3Cpolygon%20points%3D%22132.5%2C42.2%20132.5%2C33.4%20133.5%2C33.4%20133.5%2C41.3%20136.5%2C41.3%20136.5%2C42.2%22%3E%3C%2Fpolygon%3E%3Cpath%20d%3D%22M1.2%2C57h1.9c1%2C0%2C1.7-0.5%2C1.7-1.5v-4c0-1-0.6-1.5-1.7-1.5H1.2V57z%20M0.1%2C49.1H3c1.8%2C0%2C2.8%2C0.7%2C2.8%2C2.5v3.7%20c0%2C1.8-1%2C2.5-2.8%2C2.5H0.1V49.1z%22%3E%3C%2Fpath%3E%3Cpolygon%20points%3D%228.3%2C57.9%208.3%2C49.1%2013%2C49.1%2013%2C50%209.3%2C50%209.3%2C52.9%2012.6%2C52.9%2012.6%2C53.8%209.3%2C53.8%209.3%2C57%2013.2%2C57%2013.2%2C57.9%22%3E%3C%2Fpolygon%3E%3Cpolygon%20points%3D%2219.7%2C50.1%2017.6%2C50.1%2017.6%2C49.1%2022.7%2C49.1%2022.7%2C50.1%2020.7%2C50.1%2020.7%2C57.9%2019.7%2C57.9%22%3E%3C%2Fpolygon%3E%3Cpath%20d%3D%22M25.6%2C53.3h1.8c1.1%2C0%2C1.6-0.5%2C1.6-1.6c0-1.1-0.5-1.6-1.6-1.6h-1.8V53.3z%20M25.6%2C57.9h-1v-8.7h3%20c1.6%2C0%2C2.5%2C0.9%2C2.5%2C2.5c0%2C1.3-0.6%2C2-1.2%2C2.3l1.3%2C3.9h-1.1l-1.2-3.6h-2.3V57.9z%22%3E%3C%2Fpath%3E%3Cpolygon%20points%3D%2232.8%2C57.9%2032.8%2C49.1%2037.5%2C49.1%2037.5%2C50%2033.8%2C50%2033.8%2C52.9%2037%2C52.9%2037%2C53.8%2033.8%2C53.8%2033.8%2C57%2037.7%2C57%2037.7%2C57.9%22%3E%3C%2Fpolygon%3E%3Cpath%20d%3D%22M44%2C51.3c-0.1-1-0.6-1.4-1.7-1.4c-1%2C0-1.7%2C0.4-1.7%2C1.4c0%2C1%2C0.8%2C1.2%2C1.9%2C1.6c1.4%2C0.4%2C2.7%2C0.9%2C2.7%2C2.6%20c0%2C1.7-1.1%2C2.5-2.8%2C2.5c-1.8%2C0-2.8-0.8-2.9-2.5l1-0.1c0.1%2C1.2%2C0.7%2C1.7%2C1.9%2C1.7c1.1%2C0%2C1.8-0.5%2C1.8-1.5c0-1-0.6-1.3-1.9-1.7%20c-1.4-0.4-2.6-0.8-2.6-2.5c0-1.7%2C1.1-2.4%2C2.8-2.4c1.6%2C0%2C2.6%2C0.6%2C2.8%2C2.2L44%2C51.3z%22%3E%3C%2Fpath%3E%3Cpath%20d%3D%22M51.8%2C57h1.9c1.1%2C0%2C1.7-0.5%2C1.7-1.5v-4c0-1-0.6-1.5-1.7-1.5h-1.9V57z%20M50.8%2C49.1h2.8c1.8%2C0%2C2.8%2C0.7%2C2.8%2C2.5%20v3.7c0%2C1.8-1%2C2.5-2.8%2C2.5h-2.8V49.1z%22%3E%3C%2Fpath%3E%3Cpolygon%20points%3D%2258.9%2C57.9%2058.9%2C49.1%2063.6%2C49.1%2063.6%2C50%2059.9%2C50%2059.9%2C52.9%2063.2%2C52.9%2063.2%2C53.8%2059.9%2C53.8%2059.9%2C57%2063.8%2C57%2063.8%2C57.9%22%3E%3C%2Fpolygon%3E%3Cpolygon%20points%3D%2269.2%2C57.9%2069.2%2C49.1%2073.6%2C49.1%2073.6%2C50%2070.2%2C50%2070.2%2C52.9%2073.2%2C52.9%2073.2%2C53.8%2070.2%2C53.8%2070.2%2C57.9%22%3E%3C%2Fpolygon%3E%3Cpolygon%20points%3D%2275.6%2C57.9%2075.6%2C49.1%2080.3%2C49.1%2080.3%2C50%2076.6%2C50%2076.6%2C52.9%2079.8%2C52.9%2079.8%2C53.8%2076.6%2C53.8%2076.6%2C57%2080.5%2C57%2080.5%2C57.9%22%3E%3C%2Fpolygon%3E%3Cpath%20d%3D%22M83.5%2C57h2.1c1.1%2C0%2C1.7-0.6%2C1.7-1.6c0-1.1-0.6-1.6-1.7-1.6h-2V57z%20M83.5%2C52.9h2c1%2C0%2C1.5-0.5%2C1.5-1.4%20c0-1-0.5-1.4-1.5-1.4h-2V52.9z%20M82.5%2C49.1h3.3c1.6%2C0%2C2.3%2C0.7%2C2.3%2C2.2c0%2C1-0.3%2C1.6-1%2C1.9v0.1c0.6%2C0.2%2C1.2%2C0.9%2C1.2%2C2.1%20c0%2C1.5-0.7%2C2.4-2.4%2C2.4h-3.4V49.1z%22%3E%3C%2Fpath%3E%3Cpath%20d%3D%22M91.9%2C53.3h1.8c1.1%2C0%2C1.6-0.5%2C1.6-1.6c0-1.1-0.5-1.6-1.6-1.6h-1.8V53.3z%20M91.9%2C57.9h-1v-8.7h3%20c1.6%2C0%2C2.5%2C0.9%2C2.5%2C2.5c0%2C1.3-0.6%2C2-1.2%2C2.3l1.3%2C3.9h-1.1l-1.2-3.6h-2.3V57.9z%22%3E%3C%2Fpath%3E%3Cpolygon%20points%3D%2299%2C57.9%2099%2C49.1%20103.7%2C49.1%20103.7%2C50%20100%2C50%20100%2C52.9%20103.3%2C52.9%20103.3%2C53.8%20100%2C53.8%20100%2C57%20103.9%2C57%20103.9%2C57.9%22%3E%3C%2Fpolygon%3E%3Cpath%20d%3D%22M107%2C53.3h1.8c1.1%2C0%2C1.6-0.5%2C1.6-1.6c0-1.1-0.5-1.6-1.6-1.6H107V53.3z%20M107%2C57.9h-1v-8.7h3%20c1.6%2C0%2C2.5%2C0.9%2C2.5%2C2.5c0%2C1.3-0.6%2C2-1.2%2C2.3l1.3%2C3.9h-1.1l-1.2-3.6H107V57.9z%22%3E%3C%2Fpath%3E%3Cpath%20d%3D%22M114.9%2C55.6c0%2C1.1%2C0.7%2C1.5%2C1.8%2C1.5c1.1%2C0%2C1.8-0.4%2C1.8-1.5v-4.1c0-1.1-0.7-1.5-1.8-1.5%20c-1.1%2C0-1.8%2C0.4-1.8%2C1.5V55.6z%20M113.9%2C51.5c0-1.9%2C1-2.5%2C2.8-2.5c1.8%2C0%2C2.8%2C0.7%2C2.8%2C2.5v3.9c0%2C1.9-1%2C2.5-2.8%2C2.5%20c-1.8%2C0-2.8-0.7-2.8-2.5V51.5z%22%3E%3C%2Fpath%3E%3Crect%20y%3D%2223.7%22%20width%3D%2296.4%22%20height%3D%223.6%22%3E%3C%2Frect%3E%3Cpath%20d%3D%22M69.1%2C17.5V0h11.5v2.9h-8V7h7.3v2.9h-7.3v4.7H81v2.9H69.1z%20M85.3%2C17.5V0h11v2.9h-7.6V7h6.9v2.9h-6.9v7.6%20H85.3z%20M54.5%2C17.5H51V0h7.2C62.1%2C0%2C64%2C1.8%2C64%2C5.3c0%2C2.8-1.4%2C4.1-2.7%2C4.6l2.9%2C7.6h-3.8L58%2C10.5h-3.5V17.5z%20M54.5%2C7.7h2.9%20c2%2C0%2C3-0.6%2C3-2.5c0-1.9-1-2.5-3-2.5h-2.9V7.7z%20M39.9%2C2.9h-4.4V0h12.4v2.9h-4.4v14.6h-3.5V2.9z%20M18.8%2C17.5V0h4.1l5.8%2C11.7h0.2V0h3.4%20v17.5h-4L22.2%2C5.3h-0.2v12.2H18.8z%20M0.1%2C0h3.5v12.1c0%2C2%2C1%2C2.8%2C3%2C2.8c2%2C0%2C3-0.8%2C3-2.8V0h3.5v12.1c0%2C3.8-2.3%2C5.7-6.5%2C5.7%20c-4.2%2C0-6.5-1.9-6.5-5.7V0z%22%3E%3C%2Fpath%3E%3C%2Fg%3E%3C%2Fsvg%3E\" /></center></p>\n",
    "\n",
    "<h2 style=\"text-align: center\">Estructura de Datos</h2>\n",
    "\n",
    "<h3 style=\"text-align: center\">Registros de Datos</h3>\n",
    "\n",
    "<h3 style=\"text-align: center\">Guía de Ejercicios</h3>"
   ]
  },
  {
   "cell_type": "code",
   "execution_count": 1,
   "id": "23a75bf1",
   "metadata": {},
   "outputs": [],
   "source": [
    "\"\"\"Crea el directorio ./tmp si no existe y borra todo su contenido.\n",
    "\n",
    "Ejecutar esta celda antes de ejecutar cualquier otra para que los archivos que\n",
    "se generen se guarden en un entorno limpio.\n",
    "\"\"\"\n",
    "\n",
    "import os\n",
    "import shutil\n",
    "\n",
    "# Modificar la ubicación del directorio tmp de acuerdo a sus necesidades\n",
    "tmp_dir = \"./tmp\"\n",
    "if not os.path.exists(tmp_dir):\n",
    "    os.makedirs(tmp_dir)\n",
    "else:\n",
    "    for filename in os.listdir(tmp_dir):\n",
    "        file_path = os.path.join(tmp_dir, filename)\n",
    "\n",
    "        if os.path.isfile(file_path) or os.path.islink(file_path):\n",
    "            os.unlink(file_path)\n",
    "        elif os.path.isdir(file_path):\n",
    "            shutil.rmtree(file_path)\n",
    "\n",
    "os.chdir(tmp_dir)"
   ]
  },
  {
   "cell_type": "markdown",
   "id": "a1532966-a8ae-4a74-8037-9bf833c759ab",
   "metadata": {
    "editable": true,
    "slideshow": {
     "slide_type": ""
    },
    "tags": []
   },
   "source": [
    "### Ejercicio 1\n",
    "\n",
    "Se desea almacenar la información de los alumnos de una universidad. De cada alumno se conoce su `legajo`, `apellido`, `nombre`, `domicilio`, `localidad` y `telefono`.\n",
    "\n",
    "Se pide definir un registro que permita almacenar la información de un alumno para luego persistirla en un archivo binario. Definir claramente los campos, sus tipos y tamaños. Justificar las decisiones tomadas, teniendo en cuenta que se desea optimizar el espacio utilizado.\n",
    "\n",
    "Escribir un programa que defina la clase Alumnos, que tenga los métodos necesarios agregar datos de alumnos al archivo binario.\n",
    "\n",
    "> Pista: Tener en cuenta que los legajos pueden son números de hasta 6 dígitos sin signo y las cadenas de caracteres se pueden representar con enteros sin signos de 2 bytes.\n",
    "> \n",
    "> Ver [`struct.pack`](https://docs.python.org/es/3.13/library/struct.html#struct.pack) para más información."
   ]
  },
  {
   "cell_type": "markdown",
   "id": "fe34302d-8217-4e79-98ed-ed4bab03f8bb",
   "metadata": {},
   "source": [
    "#### Resolución Ejercicio 1\n",
    "\n",
    "Completar"
   ]
  },
  {
   "cell_type": "code",
   "execution_count": null,
   "id": "838d4c0a",
   "metadata": {},
   "outputs": [],
   "source": [
    "import struct\n",
    "\n",
    "# Implementación del Ejercicio 1 (Archivo Binario)\n",
    "class Alumnos:\n",
    "    def __init__(self, archivo):\n",
    "        self._archivo = archivo\n",
    "        self._campos = [\"legajo\",\"apellido\", \"nombre\", \"domicilio\", \"localidad\", \"telefono\"]\n",
    "\n",
    "        \n",
    "        #intentamos abrir el archivo si existe, para contar registros\n",
    "        try:\n",
    "            self._cant_registros = 0 \n",
    "            tam_archvio = os.path.getsize(archivo)\n",
    "\n",
    "            with open(archivo, \"rb\") as f:\n",
    "                pos = 0\n",
    "                #mientras nuestra pos sea menor al tamaño del archivo, seguimos recorriendo.\n",
    "                while pos < tam_archvio:\n",
    "                    f.seek(pos)\n",
    "\n",
    "                    #obtenemos los primeros 4 bits que son la long del registro, y lo transformamos a un INT\n",
    "                    len_registro_bt = f.read(4)\n",
    "                    if len(len_registro_bt) < 4:\n",
    "                        break\n",
    "                    (len_registro,) = struct.unpack(\"I\",len_registro_bt)\n",
    "\n",
    "                    #actualizamos nuestra pos y el contador\n",
    "                    pos += 4 + len_registro\n",
    "                    self._cant_registros += 1\n",
    "\n",
    "        except FileNotFoundError:\n",
    "            self._cant_registros = 0\n",
    "    \n",
    "    def agregar(self, *campos):\n",
    "        pass\n",
    "\n",
    "\n",
    "            "
   ]
  },
  {
   "cell_type": "code",
   "execution_count": null,
   "id": "62af4d07",
   "metadata": {},
   "outputs": [],
   "source": [
    "# Ejemplo de uso: solo guardar alumnos en el archivo binario\n",
    "alumnos = Alumnos(\"alumnos.bin\")\n",
    "alumnos.agregar(123456, \"Pérez\", \"Ana\", \"Calle Falsa 123\", \"Buenos Aires\", \"1122334455\")\n",
    "alumnos.agregar(234567, \"García\", \"Juan\", \"Av. Siempreviva 742\", \"Rosario\", \"1133445566\")\n",
    "alumnos.agregar(345678, \"López\", \"María\", \"San Martín 1000\", \"Córdoba\", \"1144556677\")"
   ]
  },
  {
   "cell_type": "markdown",
   "id": "d3aedfa4",
   "metadata": {},
   "source": [
    "### Ejercicio 2\n",
    "Crear un iterador para recorrer los registros de alumnos almacenados en el archivo binario. El iterador debe permitir:\n",
    "1. Inicializar el recorrido desde el primer registro.\n",
    "2. Avanzar al siguiente registro.\n",
    "3. Verificar si se ha llegado al final del archivo.\n",
    "4. Obtener el registro actual.\n",
    "\n",
    "El iterador debe recibir directamente el path completo al archivo binario."
   ]
  },
  {
   "cell_type": "code",
   "execution_count": null,
   "id": "7ecedb19",
   "metadata": {},
   "outputs": [],
   "source": [
    "# Resolución Ejercicio 2\n",
    "class AlumnoIterador: ..."
   ]
  },
  {
   "cell_type": "code",
   "execution_count": null,
   "id": "3b2e5f82",
   "metadata": {},
   "outputs": [],
   "source": [
    "# Ejemplo de Uso del iterador\n",
    "# Supongamos que ya existe un archivo 'alumnos.bin' con registros escritos según el formato del ejercicio 1\n",
    "\n",
    "# Iterar y mostrar todos los alumnos\n",
    "it = AlumnoIterator(\"alumnos.bin\")\n",
    "while not it.fin():\n",
    "    reg = it.actual()\n",
    "    if reg:\n",
    "        alumno = decodificar_registro(reg)\n",
    "        print(alumno)\n",
    "    it.avanzar()\n",
    "it.close()"
   ]
  },
  {
   "cell_type": "markdown",
   "id": "36f38e16",
   "metadata": {},
   "source": [
    "### Ejercicio 3\n",
    "\n",
    "Modificar el programa del ejercicio 1 para que permita buscar un alumno por su legajo.\n",
    "\n",
    "El programa debe leer el archivo binario y devolver la información del alumno si se encuentra, o un mensaje indicando que no se encontró si es el caso y debe utilizar el iterador del ejercicio 2 para recorrer los registros."
   ]
  },
  {
   "cell_type": "code",
   "execution_count": null,
   "id": "55d93456",
   "metadata": {},
   "outputs": [],
   "source": [
    "# Resolución Ejercicio 3\n",
    "class AlumnosBinBuscador: ..."
   ]
  },
  {
   "cell_type": "code",
   "execution_count": null,
   "id": "10eb1dc1",
   "metadata": {},
   "outputs": [],
   "source": [
    "# Ejemplo de uso:\n",
    "alumnos_bin = AlumnosBinBuscador(\"alumnos.bin\")\n",
    "legajo_a_buscar = 234567\n",
    "alumno_encontrado = alumnos_bin.buscar_por_legajo(legajo_a_buscar)\n",
    "if alumno_encontrado:\n",
    "    print(f\"Alumno encontrado: {alumno_encontrado}\")\n",
    "else:\n",
    "    print(f\"No se encontró alumno con legajo {legajo_a_buscar}\")"
   ]
  },
  {
   "cell_type": "markdown",
   "id": "f04123bc-6310-4820-ae3a-dd62790b2947",
   "metadata": {
    "editable": true,
    "slideshow": {
     "slide_type": ""
    },
    "tags": []
   },
   "source": [
    "### Ejercicio 4\n",
    "\n",
    "Reescribir el programa del ejercicio 1 para que use json como formato de persistencia en lugar de un archivo binario. Justificar las decisiones tomadas en cuanto a la estructura del json y cómo se almacenan los datos. Incluir la búsqueda por legajo y el iterador para recorrer los registros."
   ]
  },
  {
   "cell_type": "code",
   "execution_count": null,
   "id": "4223244e",
   "metadata": {},
   "outputs": [],
   "source": [
    "# Resolución Ejercicio 4\n",
    "class AlumnosJson: ..."
   ]
  },
  {
   "cell_type": "code",
   "execution_count": null,
   "id": "9ba878e3",
   "metadata": {},
   "outputs": [],
   "source": [
    "# Ejemplo de uso\n",
    "alumnos_json = AlumnosJson(\"alumnos.json\")\n",
    "alumnos_json.agregar(200001, \"Gómez\", \"Laura\", \"Mitre 123\", \"Tigre\", \"117778888\")\n",
    "alumnos_json.agregar(200002, \"Fernández\", \"Carlos\", \"Belgrano 456\", \"San Isidro\", \"116667777\")\n",
    "alumnos_json.agregar(200003, \"Paz\", \"Elena\", \"Roca 789\", \"Vicente López\", \"115556666\")\n",
    "\n",
    "# Buscar por legajo\n",
    "legajo_buscar = 200002\n",
    "alumno = alumnos_json.buscar_por_legajo(legajo_buscar)\n",
    "if alumno:\n",
    "    print(f\"Alumno encontrado: {alumno}\")\n",
    "else:\n",
    "    print(f\"No se encontró alumno con legajo {legajo_buscar}\")\n",
    "\n",
    "# Recorrer todos los alumnos con el iterador\n",
    "it = AlumnoJsonIterator(\"alumnos.json\")\n",
    "while not it.fin():\n",
    "    print(it.actual())\n",
    "    it.avanzar()"
   ]
  },
  {
   "attachments": {},
   "cell_type": "markdown",
   "id": "2cb5bc48-c768-4bdf-841a-f6ee8eeeaf29",
   "metadata": {
    "editable": true,
    "slideshow": {
     "slide_type": ""
    },
    "tags": []
   },
   "source": [
    "### Ejercicio 5\n",
    "\n",
    "Comparar las implementaciones con archivos binarios y JSON en términos de:\n",
    "\n",
    "1. Facilidad de implementación.\n",
    "2. Eficiencia en el uso del espacio.\n",
    "3. Velocidad de acceso a los registros.\n",
    "4. Flexibilidad para cambios futuros en la estructura de datos."
   ]
  },
  {
   "cell_type": "markdown",
   "id": "89591030",
   "metadata": {},
   "source": [
    "#### Resolución Ejercicio 5\n",
    "\n",
    "Completar"
   ]
  },
  {
   "cell_type": "markdown",
   "id": "91bc961b",
   "metadata": {},
   "source": [
    "### Ejercicio 6\n",
    "\n",
    "Modificar el programa del ejercicio 4 para que permita actualizar la información de un alumno existente en el archivo json. El programa debe buscar el alumno por su legajo y permitir modificar cualquiera de sus campos. Si el alumno no existe, debe mostrar un mensaje indicando que no se encontró."
   ]
  },
  {
   "cell_type": "code",
   "execution_count": null,
   "id": "ebff5d2d",
   "metadata": {},
   "outputs": [],
   "source": [
    "# Resolución Ejercicio 6"
   ]
  },
  {
   "cell_type": "code",
   "execution_count": null,
   "id": "c5fc247a",
   "metadata": {},
   "outputs": [],
   "source": [
    "### Ejemplo de uso:\n",
    "# Mostrar registro antes de modificar\n",
    "print(\"Antes de modificar:\", alumnos_json.buscar_por_legajo(a[\"legajo\"]))\n",
    "\n",
    "# Actualizar el domicilio y teléfono del alumno\n",
    "actualizar_alumno_json(\"alumnos.json\", a[\"legajo\"], domicilio=\"Roca 999\", telefono=\"119999999\")\n",
    "\n",
    "# Mostrar registro después de modificar\n",
    "print(\"Después de modificar:\", alumnos_json.buscar_por_legajo(a[\"legajo\"]))"
   ]
  },
  {
   "cell_type": "markdown",
   "id": "2da885da",
   "metadata": {},
   "source": [
    "### Ejercicio 7\n",
    "\n",
    "Dado un archivo CSV con las columnas `legajo`, `nombre`, `examen` y `nota`. Donde examen puede ser \"Parcial 1\", \"Parcial 2\", \"Recuperatorio 1\", \"Recuperatorio 2\".\n",
    "\n",
    "Se pide escribir un programa que:\n",
    "\n",
    "- Liste todos los alumnos que promocionaron la materia. Un alumno promociona si su nota en el parcial 1 o recuperatorio 1 es mayor o igual a 7 y su nota en el parcial 2 o recuperatorio 2 es mayor o igual a 7.\n",
    "- Liste todos los alumnos que deben rendir el final. Un alumno debe rendir el final si no promocionó y su nota en ambos parciales o recuperatorios es mayor o igual a 4.\n",
    "- Liste todos los alumnos que deben recursar la materia. Un alumno debe recursar si su nota en alguno de los parciales o recuperatorios es menor a 4.\n",
    "\n",
    "Los listados deben mostrar el legajo, nombre, promedio (tomando la mejor nota entre parcial y recuperatorio para cada parcial) y condición (promocionado, final, recursa). Si un alumno no se presentó a un parcial o recuperatorio, se considera que tiene nota 0 en ese examen.\n",
    "\n",
    "Archivo de notas: [`./datos/3_Registros/notas.csv`](./datos/3_Registros/notas.csv)"
   ]
  },
  {
   "cell_type": "code",
   "execution_count": null,
   "id": "3d144d45",
   "metadata": {},
   "outputs": [],
   "source": [
    "# Resolución Ejercicio 7\n",
    "pass"
   ]
  },
  {
   "cell_type": "markdown",
   "id": "a2329c6b",
   "metadata": {},
   "source": [
    "Ejemplo de salida:\n",
    "\n",
    "--- Alumnos que Promocionan la Materia ---\n",
    "  - Legajo: 1011, Nombre: Carlos Gomez, Promedio: 7.48, Condición: Promocionado\n",
    "  - Legajo: 1018, Nombre: Elena Romero, Promedio: 9.65, Condición: Promocionado\n",
    "  - Legajo: 1027, Nombre: Jose Romero, Promedio: 7.45, Condición: Promocionado\n",
    "  - Legajo: 1009, Nombre: Juan Lopez, Promedio: 9.08, Condición: Promocionado\n",
    "  - Legajo: 1020, Nombre: Lucia Diaz, Promedio: 7.90, Condición: Promocionado\n",
    "  - Legajo: 1030, Nombre: Lucia Gomez, Promedio: 8.20, Condición: Promocionado\n",
    "  - Legajo: 1016, Nombre: Maria Garcia, Promedio: 8.00, Condición: Promocionado\n",
    "  - Legajo: 1025, Nombre: Pedro Garcia, Promedio: 9.00, Condición: Promocionado\n",
    "  - Legajo: 1005, Nombre: Pedro Sanchez, Promedio: 9.34, Condición: Promocionado\n",
    "  - Legajo: 1003, Nombre: Sofia Gomez, Promedio: 8.13, Condición: Promocionado\n",
    "  - Legajo: 1013, Nombre: Sofia Rodriguez, Promedio: 8.80, Condición: Promocionado\n",
    "\n",
    "--- Alumnos que deben Rendir Final ---\n",
    "  - Legajo: 1004, Nombre: Ana Fernandez, Promedio: 6.25, Condición: Final\n",
    "  - Legajo: 1014, Nombre: Ana Lopez, Promedio: 6.35, Condición: Final\n",
    "  - Legajo: 1024, Nombre: Ana Martinez, Promedio: 5.75, Condición: Final\n",
    "  - Legajo: 1001, Nombre: Carlos Diaz, Promedio: 7.33, Condición: Final\n",
    "  - Legajo: 1021, Nombre: Carlos Rodriguez, Promedio: 6.95, Condición: Final\n",
    "  - Legajo: 1028, Nombre: Elena Fernandez, Promedio: 6.05, Condición: Final\n",
    "  - Legajo: 1008, Nombre: Elena Martinez, Promedio: 5.84, Condición: Final\n",
    "  - Legajo: 1007, Nombre: Jose Garcia, Promedio: 5.67, Condición: Final\n",
    "  - Legajo: 1017, Nombre: Jose Sanchez, Promedio: 6.75, Condición: Final\n",
    "  - Legajo: 1019, Nombre: Juan Fernandez, Promedio: 4.60, Condición: Final\n",
    "  - Legajo: 1010, Nombre: Lucia Perez, Promedio: 5.66, Condición: Final\n",
    "  - Legajo: 1002, Nombre: Luis Rodriguez, Promedio: 6.54, Condición: Final\n",
    "  - Legajo: 1006, Nombre: Maria Romero, Promedio: 5.56, Condición: Final\n",
    "  - Legajo: 1015, Nombre: Pedro Martinez, Promedio: 4.00, Condición: Final\n",
    "  - Legajo: 1023, Nombre: Sofia Lopez, Promedio: 7.35, Condición: Final\n",
    "\n",
    "--- Alumnos que deben Recursar la Materia ---\n",
    "  - Legajo: 1029, Nombre: Juan Perez, Promedio: 4.40, Condición: Recursa\n",
    "  - Legajo: 1012, Nombre: Luis Diaz, Promedio: 3.75, Condición: Recursa\n",
    "  - Legajo: 1022, Nombre: Luis Gomez, Promedio: 4.15, Condición: Recursa\n",
    "  - Legajo: 1026, Nombre: Maria Sanchez, Promedio: 2.25, Condición: Recursa"
   ]
  }
 ],
 "metadata": {
  "kernelspec": {
   "display_name": "Python 3",
   "language": "python",
   "name": "python3"
  },
  "language_info": {
   "codemirror_mode": {
    "name": "ipython",
    "version": 3
   },
   "file_extension": ".py",
   "mimetype": "text/x-python",
   "name": "python",
   "nbconvert_exporter": "python",
   "pygments_lexer": "ipython3",
   "version": "3.13.7"
  },
  "rise": {
   "start_slideshow_at": "beginning"
  }
 },
 "nbformat": 4,
 "nbformat_minor": 5
}
