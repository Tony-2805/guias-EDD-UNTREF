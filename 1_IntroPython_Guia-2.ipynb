{
 "cells": [
  {
   "cell_type": "markdown",
   "id": "f05b7e77-8842-4ff5-bf9f-7433e68ccb68",
   "metadata": {
    "editable": false,
    "id": "f05b7e77-8842-4ff5-bf9f-7433e68ccb68",
    "tags": []
   },
   "source": [
    "<p style=\"text-align: center\">\n",
    "    <img src=\"data:image/svg+xml,%3Csvg%20version%3D%221.2%22%20baseProfile%3D%22tiny%22%20id%3D%22Capa_1%22%20xmlns%3D%22http%3A%2F%2Fwww.w3.org%2F2000%2Fsvg%22%20xmlns%3Axlink%3D%22http%3A%2F%2Fwww.w3.org%2F1999%2Fxlink%22%20x%3D%220px%22%20y%3D%220px%22%20viewBox%3D%220%200%20136.5%2058%22%20overflow%3D%22visible%22%20xml%3Aspace%3D%22preserve%22%3E%3Cstyle%20type%3D%22text%2Fcss%22%3Epath%2Cpolygon%2Crect%7Bfill%3A%231e1f1d%21important%7D%40media%20%28prefers-color-scheme%3Adark%29%7Bpath%2Cpolygon%2Crect%7Bfill%3A%23e1e0e2%21important%7D%7D%3C%2Fstyle%3E%3Cg%3E%3Cpath%20d%3D%22M0%2C33.4h1v6.3c0%2C1.1%2C0.5%2C1.7%2C1.7%2C1.7s1.7-0.5%2C1.7-1.7v-6.3h1v6.3c0%2C1.8-1%2C2.5-2.7%2C2.5C1%2C42.3%2C0%2C41.5%2C0%2C39.7%20V33.4z%22%3E%3C%2Fpath%3E%3Cpolygon%20points%3D%228.1%2C42.2%208.1%2C33.4%209.4%2C33.4%2012.6%2C40.4%2012.7%2C40.4%2012.7%2C33.4%2013.7%2C33.4%2013.7%2C42.2%2012.4%2C42.2%209.1%2C34.9%209%2C34.9%209%2C42.2%22%3E%3C%2Fpolygon%3E%3Crect%20x%3D%2216.5%22%20width%3D%221%22%20y%3D%2233.4%22%20height%3D%228.7%22%3E%3C%2Frect%3E%3Cpolygon%20points%3D%2224.4%2C33.4%2025.4%2C33.4%2023.1%2C42.2%2021.7%2C42.2%2019.4%2C33.4%2020.5%2C33.4%2022.4%2C40.9%2022.5%2C40.9%22%3E%3C%2Fpolygon%3E%3Cpolygon%20points%3D%2227.4%2C42.2%2027.4%2C33.4%2032.1%2C33.4%2032.1%2C34.3%2028.4%2C34.3%2028.4%2C37.2%2031.6%2C37.2%2031.6%2C38.1%2028.4%2C38.1%2028.4%2C41.3%2032.3%2C41.3%2032.3%2C42.2%22%3E%3C%2Fpolygon%3E%3Cpath%20d%3D%22M35.3%2C37.6h1.8c1.1%2C0%2C1.6-0.5%2C1.6-1.6c0-1.1-0.5-1.6-1.6-1.6h-1.8V37.6z%20M35.3%2C42.2h-1v-8.7h3%20c1.6%2C0%2C2.5%2C0.9%2C2.5%2C2.5c0%2C1.3-0.6%2C2-1.2%2C2.3l1.3%2C3.9h-1.1l-1.2-3.6h-2.3V42.2z%22%3E%3C%2Fpath%3E%3Cpath%20d%3D%22M46.7%2C35.6c-0.1-1-0.6-1.4-1.7-1.4c-1%2C0-1.7%2C0.4-1.7%2C1.4c0%2C1%2C0.8%2C1.2%2C1.9%2C1.6c1.4%2C0.4%2C2.7%2C0.9%2C2.7%2C2.6%20c0%2C1.7-1.1%2C2.5-2.8%2C2.5c-1.8%2C0-2.8-0.8-2.9-2.5l1-0.1c0.1%2C1.2%2C0.7%2C1.7%2C1.9%2C1.7c1.1%2C0%2C1.8-0.5%2C1.8-1.5c0-1-0.6-1.3-1.9-1.7%20c-1.4-0.4-2.6-0.8-2.6-2.5c0-1.7%2C1.1-2.4%2C2.8-2.4c1.6%2C0%2C2.6%2C0.6%2C2.8%2C2.2L46.7%2C35.6z%22%3E%3C%2Fpath%3E%3Crect%20x%3D%2250.2%22%20width%3D%221%22%20y%3D%2233.4%22%20height%3D%228.7%22%3E%3C%2Frect%3E%3Cpath%20d%3D%22M55%2C41.3h1.9c1%2C0%2C1.7-0.5%2C1.7-1.5v-4c0-1-0.6-1.5-1.7-1.5H55V41.3z%20M54%2C33.4h2.8c1.8%2C0%2C2.8%2C0.7%2C2.8%2C2.5v3.7%20c0%2C1.8-1%2C2.5-2.8%2C2.5H54V33.4z%22%3E%3C%2Fpath%3E%3Cpath%20d%3D%22M63.2%2C39.1H66l-1.3-4.6h-0.1L63.2%2C39.1z%20M62.4%2C42.2h-1.1l2.6-8.7h1.5l2.6%2C8.7h-1.1L66.3%2C40H63L62.4%2C42.2z%22%3E%3C%2Fpath%3E%3Cpath%20d%3D%22M70.9%2C41.3h1.9c1%2C0%2C1.7-0.5%2C1.7-1.5v-4c0-1-0.6-1.5-1.7-1.5h-1.9V41.3z%20M69.8%2C33.4h2.8%20c1.8%2C0%2C2.8%2C0.7%2C2.8%2C2.5v3.7c0%2C1.8-1%2C2.5-2.8%2C2.5h-2.8V33.4z%22%3E%3C%2Fpath%3E%3Cpolygon%20points%3D%2281.3%2C42.2%2081.3%2C33.4%2082.6%2C33.4%2085.8%2C40.4%2085.9%2C40.4%2085.9%2C33.4%2086.9%2C33.4%2086.9%2C42.2%2085.6%2C42.2%2082.3%2C34.9%2082.2%2C34.9%2082.2%2C42.2%22%3E%3C%2Fpolygon%3E%3Cpath%20d%3D%22M90.7%2C39.1h2.8l-1.3-4.6H92L90.7%2C39.1z%20M89.8%2C42.2h-1.1l2.6-8.7h1.5l2.6%2C8.7h-1.1L93.7%2C40h-3.3L89.8%2C42.2z%22%3E%3C%2Fpath%3E%3Cpath%20d%3D%22M101.2%2C36.1v-0.4c0-1.1-0.5-1.5-1.7-1.5c-1.1%2C0-1.8%2C0.4-1.8%2C1.5v4.1c0%2C1.1%2C0.6%2C1.5%2C1.8%2C1.5%20c1.1%2C0%2C1.7-0.5%2C1.7-1.5v-0.4l1%2C0.1v0.1c0%2C1.8-0.9%2C2.6-2.7%2C2.6c-1.8%2C0-2.8-0.7-2.8-2.5v-4c0-1.8%2C1-2.5%2C2.8-2.5%20c1.8%2C0%2C2.7%2C0.7%2C2.7%2C2.6V36L101.2%2C36.1z%22%3E%3C%2Fpath%3E%3Crect%20x%3D%22104.7%22%20width%3D%221%22%20y%3D%2233.4%22%20height%3D%228.7%22%3E%3C%2Frect%3E%3Cpath%20d%3D%22M109.3%2C39.9c0%2C1.1%2C0.7%2C1.5%2C1.8%2C1.5c1.1%2C0%2C1.8-0.4%2C1.8-1.5v-4.1c0-1.1-0.7-1.5-1.8-1.5%20c-1.1%2C0-1.8%2C0.4-1.8%2C1.5V39.9z%20M108.3%2C35.8c0-1.9%2C1-2.5%2C2.8-2.5c1.8%2C0%2C2.8%2C0.7%2C2.8%2C2.5v3.9c0%2C1.9-1%2C2.5-2.8%2C2.5%20c-1.8%2C0-2.8-0.7-2.8-2.5V35.8z%22%3E%3C%2Fpath%3E%3Cpolygon%20points%3D%22116.5%2C42.2%20116.5%2C33.4%20117.8%2C33.4%20121%2C40.4%20121.1%2C40.4%20121.1%2C33.4%20122%2C33.4%20122%2C42.2%20120.8%2C42.2%20117.5%2C34.9%20117.4%2C34.9%20117.4%2C42.2%22%3E%3C%2Fpolygon%3E%3Cpath%20d%3D%22M125.9%2C39.1h2.8l-1.3-4.6h-0.1L125.9%2C39.1z%20M125%2C42.2h-1.1l2.6-8.7h1.5l2.6%2C8.7h-1.1l-0.6-2.1h-3.3%20L125%2C42.2z%22%3E%3C%2Fpath%3E%3Cpolygon%20points%3D%22132.5%2C42.2%20132.5%2C33.4%20133.5%2C33.4%20133.5%2C41.3%20136.5%2C41.3%20136.5%2C42.2%22%3E%3C%2Fpolygon%3E%3Cpath%20d%3D%22M1.2%2C57h1.9c1%2C0%2C1.7-0.5%2C1.7-1.5v-4c0-1-0.6-1.5-1.7-1.5H1.2V57z%20M0.1%2C49.1H3c1.8%2C0%2C2.8%2C0.7%2C2.8%2C2.5v3.7%20c0%2C1.8-1%2C2.5-2.8%2C2.5H0.1V49.1z%22%3E%3C%2Fpath%3E%3Cpolygon%20points%3D%228.3%2C57.9%208.3%2C49.1%2013%2C49.1%2013%2C50%209.3%2C50%209.3%2C52.9%2012.6%2C52.9%2012.6%2C53.8%209.3%2C53.8%209.3%2C57%2013.2%2C57%2013.2%2C57.9%22%3E%3C%2Fpolygon%3E%3Cpolygon%20points%3D%2219.7%2C50.1%2017.6%2C50.1%2017.6%2C49.1%2022.7%2C49.1%2022.7%2C50.1%2020.7%2C50.1%2020.7%2C57.9%2019.7%2C57.9%22%3E%3C%2Fpolygon%3E%3Cpath%20d%3D%22M25.6%2C53.3h1.8c1.1%2C0%2C1.6-0.5%2C1.6-1.6c0-1.1-0.5-1.6-1.6-1.6h-1.8V53.3z%20M25.6%2C57.9h-1v-8.7h3%20c1.6%2C0%2C2.5%2C0.9%2C2.5%2C2.5c0%2C1.3-0.6%2C2-1.2%2C2.3l1.3%2C3.9h-1.1l-1.2-3.6h-2.3V57.9z%22%3E%3C%2Fpath%3E%3Cpolygon%20points%3D%2232.8%2C57.9%2032.8%2C49.1%2037.5%2C49.1%2037.5%2C50%2033.8%2C50%2033.8%2C52.9%2037%2C52.9%2037%2C53.8%2033.8%2C53.8%2033.8%2C57%2037.7%2C57%2037.7%2C57.9%22%3E%3C%2Fpolygon%3E%3Cpath%20d%3D%22M44%2C51.3c-0.1-1-0.6-1.4-1.7-1.4c-1%2C0-1.7%2C0.4-1.7%2C1.4c0%2C1%2C0.8%2C1.2%2C1.9%2C1.6c1.4%2C0.4%2C2.7%2C0.9%2C2.7%2C2.6%20c0%2C1.7-1.1%2C2.5-2.8%2C2.5c-1.8%2C0-2.8-0.8-2.9-2.5l1-0.1c0.1%2C1.2%2C0.7%2C1.7%2C1.9%2C1.7c1.1%2C0%2C1.8-0.5%2C1.8-1.5c0-1-0.6-1.3-1.9-1.7%20c-1.4-0.4-2.6-0.8-2.6-2.5c0-1.7%2C1.1-2.4%2C2.8-2.4c1.6%2C0%2C2.6%2C0.6%2C2.8%2C2.2L44%2C51.3z%22%3E%3C%2Fpath%3E%3Cpath%20d%3D%22M51.8%2C57h1.9c1.1%2C0%2C1.7-0.5%2C1.7-1.5v-4c0-1-0.6-1.5-1.7-1.5h-1.9V57z%20M50.8%2C49.1h2.8c1.8%2C0%2C2.8%2C0.7%2C2.8%2C2.5%20v3.7c0%2C1.8-1%2C2.5-2.8%2C2.5h-2.8V49.1z%22%3E%3C%2Fpath%3E%3Cpolygon%20points%3D%2258.9%2C57.9%2058.9%2C49.1%2063.6%2C49.1%2063.6%2C50%2059.9%2C50%2059.9%2C52.9%2063.2%2C52.9%2063.2%2C53.8%2059.9%2C53.8%2059.9%2C57%2063.8%2C57%2063.8%2C57.9%22%3E%3C%2Fpolygon%3E%3Cpolygon%20points%3D%2269.2%2C57.9%2069.2%2C49.1%2073.6%2C49.1%2073.6%2C50%2070.2%2C50%2070.2%2C52.9%2073.2%2C52.9%2073.2%2C53.8%2070.2%2C53.8%2070.2%2C57.9%22%3E%3C%2Fpolygon%3E%3Cpolygon%20points%3D%2275.6%2C57.9%2075.6%2C49.1%2080.3%2C49.1%2080.3%2C50%2076.6%2C50%2076.6%2C52.9%2079.8%2C52.9%2079.8%2C53.8%2076.6%2C53.8%2076.6%2C57%2080.5%2C57%2080.5%2C57.9%22%3E%3C%2Fpolygon%3E%3Cpath%20d%3D%22M83.5%2C57h2.1c1.1%2C0%2C1.7-0.6%2C1.7-1.6c0-1.1-0.6-1.6-1.7-1.6h-2V57z%20M83.5%2C52.9h2c1%2C0%2C1.5-0.5%2C1.5-1.4%20c0-1-0.5-1.4-1.5-1.4h-2V52.9z%20M82.5%2C49.1h3.3c1.6%2C0%2C2.3%2C0.7%2C2.3%2C2.2c0%2C1-0.3%2C1.6-1%2C1.9v0.1c0.6%2C0.2%2C1.2%2C0.9%2C1.2%2C2.1%20c0%2C1.5-0.7%2C2.4-2.4%2C2.4h-3.4V49.1z%22%3E%3C%2Fpath%3E%3Cpath%20d%3D%22M91.9%2C53.3h1.8c1.1%2C0%2C1.6-0.5%2C1.6-1.6c0-1.1-0.5-1.6-1.6-1.6h-1.8V53.3z%20M91.9%2C57.9h-1v-8.7h3%20c1.6%2C0%2C2.5%2C0.9%2C2.5%2C2.5c0%2C1.3-0.6%2C2-1.2%2C2.3l1.3%2C3.9h-1.1l-1.2-3.6h-2.3V57.9z%22%3E%3C%2Fpath%3E%3Cpolygon%20points%3D%2299%2C57.9%2099%2C49.1%20103.7%2C49.1%20103.7%2C50%20100%2C50%20100%2C52.9%20103.3%2C52.9%20103.3%2C53.8%20100%2C53.8%20100%2C57%20103.9%2C57%20103.9%2C57.9%22%3E%3C%2Fpolygon%3E%3Cpath%20d%3D%22M107%2C53.3h1.8c1.1%2C0%2C1.6-0.5%2C1.6-1.6c0-1.1-0.5-1.6-1.6-1.6H107V53.3z%20M107%2C57.9h-1v-8.7h3%20c1.6%2C0%2C2.5%2C0.9%2C2.5%2C2.5c0%2C1.3-0.6%2C2-1.2%2C2.3l1.3%2C3.9h-1.1l-1.2-3.6H107V57.9z%22%3E%3C%2Fpath%3E%3Cpath%20d%3D%22M114.9%2C55.6c0%2C1.1%2C0.7%2C1.5%2C1.8%2C1.5c1.1%2C0%2C1.8-0.4%2C1.8-1.5v-4.1c0-1.1-0.7-1.5-1.8-1.5%20c-1.1%2C0-1.8%2C0.4-1.8%2C1.5V55.6z%20M113.9%2C51.5c0-1.9%2C1-2.5%2C2.8-2.5c1.8%2C0%2C2.8%2C0.7%2C2.8%2C2.5v3.9c0%2C1.9-1%2C2.5-2.8%2C2.5%20c-1.8%2C0-2.8-0.7-2.8-2.5V51.5z%22%3E%3C%2Fpath%3E%3Crect%20y%3D%2223.7%22%20width%3D%2296.4%22%20height%3D%223.6%22%3E%3C%2Frect%3E%3Cpath%20d%3D%22M69.1%2C17.5V0h11.5v2.9h-8V7h7.3v2.9h-7.3v4.7H81v2.9H69.1z%20M85.3%2C17.5V0h11v2.9h-7.6V7h6.9v2.9h-6.9v7.6%20H85.3z%20M54.5%2C17.5H51V0h7.2C62.1%2C0%2C64%2C1.8%2C64%2C5.3c0%2C2.8-1.4%2C4.1-2.7%2C4.6l2.9%2C7.6h-3.8L58%2C10.5h-3.5V17.5z%20M54.5%2C7.7h2.9%20c2%2C0%2C3-0.6%2C3-2.5c0-1.9-1-2.5-3-2.5h-2.9V7.7z%20M39.9%2C2.9h-4.4V0h12.4v2.9h-4.4v14.6h-3.5V2.9z%20M18.8%2C17.5V0h4.1l5.8%2C11.7h0.2V0h3.4%20v17.5h-4L22.2%2C5.3h-0.2v12.2H18.8z%20M0.1%2C0h3.5v12.1c0%2C2%2C1%2C2.8%2C3%2C2.8c2%2C0%2C3-0.8%2C3-2.8V0h3.5v12.1c0%2C3.8-2.3%2C5.7-6.5%2C5.7%20c-4.2%2C0-6.5-1.9-6.5-5.7V0z%22%3E%3C%2Fpath%3E%3C%2Fg%3E%3C%2Fsvg%3E\" style=\"height: 50px;\" />\n",
    "</p>\n",
    "\n",
    "<h3 style=\"text-align: center\">Estructura de Datos</h3>\n",
    "\n",
    "<h2 style=\"text-align: center\">Guía 1-bis: Introducción a Python</h3>"
   ]
  },
  {
   "cell_type": "markdown",
   "id": "28070546-ffda-4931-ae69-0b1bbfb39ad8",
   "metadata": {
    "editable": false,
    "id": "28070546-ffda-4931-ae69-0b1bbfb39ad8",
    "tags": []
   },
   "source": [
    "### Ej1: Calculadora Funcional\n",
    "\n",
    "Crear una función aplicar_operaciones(a, b, funcs) donde funcs es una lista de funciones binarias (ej: lambda x,y: x+y)que devuelva una lista con los resultados de aplicar todas las funciones a (a, b). Internamente debe crear la lista que devuelve por ***comprehension***\n"
   ]
  },
  {
   "cell_type": "code",
   "execution_count": 2,
   "id": "6c7b5f54-5ce4-477a-b100-6e3dec55ae20",
   "metadata": {
    "editable": true,
    "id": "6c7b5f54-5ce4-477a-b100-6e3dec55ae20",
    "tags": []
   },
   "outputs": [],
   "source": [
    "from operator import add, sub, mul, pow\n",
    "def aplicar_operaciones(a, b, funcs):\n",
    "    resultados = [func(a,b) for func in funcs ]\n",
    "    return resultados"
   ]
  },
  {
   "cell_type": "code",
   "execution_count": 3,
   "id": "d2f04d73-ff03-4fe8-9778-901c5503b488",
   "metadata": {
    "colab": {
     "base_uri": "https://localhost:8080/"
    },
    "editable": false,
    "executionInfo": {
     "elapsed": 38,
     "status": "ok",
     "timestamp": 1756420781200,
     "user": {
      "displayName": "Fabián Lagorio",
      "userId": "09028117867422542161"
     },
     "user_tz": 180
    },
    "id": "d2f04d73-ff03-4fe8-9778-901c5503b488",
    "outputId": "bcd7b23b-3d59-47db-f8a8-1ff55593b8c8",
    "tags": []
   },
   "outputs": [
    {
     "name": "stderr",
     "output_type": "stream",
     "text": [
      "test_operaciones_basicas (__main__.TestAplicarOperaciones.test_operaciones_basicas) ... ok\n",
      "test_operaciones_custom (__main__.TestAplicarOperaciones.test_operaciones_custom) ... ok\n",
      "\n",
      "----------------------------------------------------------------------\n",
      "Ran 2 tests in 0.002s\n",
      "\n",
      "OK\n"
     ]
    },
    {
     "data": {
      "text/plain": [
       "True"
      ]
     },
     "execution_count": 3,
     "metadata": {},
     "output_type": "execute_result"
    }
   ],
   "source": [
    "from unittest import TestCase, main\n",
    "\n",
    "class TestAplicarOperaciones(TestCase):\n",
    "    def test_operaciones_basicas(self):\n",
    "        funcs = [add, sub, mul, pow]\n",
    "        self.assertEqual(aplicar_operaciones(2, 3, funcs), [5, -1, 6, 8])\n",
    "\n",
    "    def test_operaciones_custom(self):\n",
    "        funcs = [lambda x,y: x+y, lambda x,y: x*y]\n",
    "        self.assertEqual(aplicar_operaciones(4, 5, funcs), [9, 20])\n",
    "\n",
    "test = main(argv=[\"\"], defaultTest=\"TestAplicarOperaciones\", verbosity=2, exit=False)\n",
    "len(test.result.failures) == 0"
   ]
  },
  {
   "cell_type": "markdown",
   "id": "8d3583ec-a3b5-4da4-ac28-4af0c312f4ab",
   "metadata": {
    "editable": false,
    "id": "8d3583ec-a3b5-4da4-ac28-4af0c312f4ab",
    "tags": []
   },
   "source": [
    "### Ej2: Variables locales y globales\n",
    "\n",
    "Escribir una función de nombre incrementar que cada vez que se llame incremente la variable contador"
   ]
  },
  {
   "cell_type": "code",
   "execution_count": 15,
   "id": "a681987c-f227-4aef-9f77-425d28d246af",
   "metadata": {
    "editable": true,
    "id": "a681987c-f227-4aef-9f77-425d28d246af",
    "tags": []
   },
   "outputs": [],
   "source": [
    "contador = 0\n",
    "def incrementar():\n",
    "  global contador \n",
    "  contador += 1\n",
    "  return contador"
   ]
  },
  {
   "cell_type": "code",
   "execution_count": 16,
   "id": "4f7bd572-a51e-4961-9401-696407c68ebd",
   "metadata": {
    "editable": false,
    "id": "4f7bd572-a51e-4961-9401-696407c68ebd",
    "tags": []
   },
   "outputs": [
    {
     "name": "stderr",
     "output_type": "stream",
     "text": [
      "test_incrementar_global (__main__.TestVariablesGlobales.test_incrementar_global) ... ok\n",
      "\n",
      "----------------------------------------------------------------------\n",
      "Ran 1 test in 0.001s\n",
      "\n",
      "OK\n"
     ]
    },
    {
     "data": {
      "text/plain": [
       "True"
      ]
     },
     "execution_count": 16,
     "metadata": {},
     "output_type": "execute_result"
    }
   ],
   "source": [
    "from unittest import TestCase, main\n",
    "\n",
    "\n",
    "class TestVariablesGlobales(TestCase):\n",
    "    def test_incrementar_global(self):\n",
    "        inicio = contador\n",
    "        self.assertEqual(incrementar(), inicio + 1)\n",
    "        self.assertEqual(incrementar(), inicio + 2)\n",
    "\n",
    "\n",
    "test = main(argv=[\"\"], defaultTest=\"TestVariablesGlobales\", verbosity=2, exit=False)\n",
    "len(test.result.failures) == 0"
   ]
  },
  {
   "cell_type": "markdown",
   "id": "7515b230-b96a-447a-b69c-7adad18cdd28",
   "metadata": {
    "editable": false,
    "id": "7515b230-b96a-447a-b69c-7adad18cdd28",
    "tags": []
   },
   "source": [
    "### Ej3: Decorador de logging\n",
    "\n",
    "Implementar un decorador `@logger` que imprima el nombre de la función y los argumentos con los que fue llamada y el resultado. Podemos suponer que la función solo recibe parámetros posicionales\n",
    "\n",
    "> Pista: con `func.__name__` se puede obtener un string con el nombre de la función"
   ]
  },
  {
   "cell_type": "code",
   "execution_count": 35,
   "id": "ca44109e-029d-4bf8-b1fc-cdbec0bb102a",
   "metadata": {
    "editable": true,
    "id": "ca44109e-029d-4bf8-b1fc-cdbec0bb102a",
    "tags": []
   },
   "outputs": [],
   "source": [
    "def logger(func):\n",
    "    def wrapper(*args):\n",
    "        resultado = func(*args)\n",
    "        argumentos = \", \".join(repr(arg) for arg in args)\n",
    "        return f\"{func.__name__}({argumentos}) = {resultado}\"\n",
    "    return wrapper\n"
   ]
  },
  {
   "cell_type": "code",
   "execution_count": 36,
   "id": "a3e97f81-1df7-4101-ab79-32f629998134",
   "metadata": {
    "editable": true,
    "id": "a3e97f81-1df7-4101-ab79-32f629998134",
    "tags": []
   },
   "outputs": [
    {
     "name": "stderr",
     "output_type": "stream",
     "text": [
      "test_multiplicar (__main__.TestLogger.test_multiplicar) ... ok\n",
      "test_saludar (__main__.TestLogger.test_saludar) ... ok\n",
      "\n",
      "----------------------------------------------------------------------\n",
      "Ran 2 tests in 0.003s\n",
      "\n",
      "OK\n"
     ]
    },
    {
     "data": {
      "text/plain": [
       "True"
      ]
     },
     "execution_count": 36,
     "metadata": {},
     "output_type": "execute_result"
    }
   ],
   "source": [
    "from unittest import TestCase, main\n",
    "\n",
    "@logger\n",
    "def multiplicar(a, b):\n",
    "    return a * b\n",
    "\n",
    "@logger\n",
    "def saludar(nombre):\n",
    "    return f\"Hola {nombre}\"\n",
    "\n",
    "class TestLogger(TestCase):\n",
    "    def test_multiplicar(self):\n",
    "        self.assertEqual(multiplicar(3, 4), \"multiplicar(3, 4) = 12\")\n",
    "\n",
    "    def test_saludar(self):\n",
    "        self.assertEqual(saludar('Ana'), \"saludar('Ana') = Hola Ana\")\n",
    "\n",
    "test = main(argv=[\"\"], defaultTest=\"TestLogger\", verbosity=2, exit=False)\n",
    "len(test.result.failures) == 0"
   ]
  },
  {
   "cell_type": "markdown",
   "id": "637df139-4321-4f8f-ac14-9de1bf4e9b26",
   "metadata": {
    "editable": false,
    "id": "637df139-4321-4f8f-ac14-9de1bf4e9b26",
    "tags": []
   },
   "source": [
    "### Ej4: Uso de `@property` y atributos privados\n",
    "\n",
    "Crear una clase `CuentaBancaria` con un atributo privado `_saldo`. Usar propiedades para acceder y modificar el saldo de una cuenta, chequeando siempre que el saldo no puede ser negativo. Si se intenta setear un saldo negativo debe levantar una excepción `raise ValueError(\"El saldo no puede ser negativo\")` y si se intenta eliminar el atributo `_saldo` debe levantar `raise TypeError(\"La cuenta debe tener saldo\")`\n",
    "\n",
    "> pista Investigar propiedades por ejemplo en Real Python: https://realpython.com/python-property/"
   ]
  },
  {
   "cell_type": "code",
   "execution_count": 42,
   "id": "7a36f67a-3258-48df-82b6-49353b159420",
   "metadata": {
    "editable": true,
    "id": "7a36f67a-3258-48df-82b6-49353b159420",
    "tags": []
   },
   "outputs": [],
   "source": [
    "class CuentaBancaria:\n",
    "    def __init__(self,saldo):\n",
    "        self._saldo = saldo\n",
    "\n",
    "    #property([fget=None, fset=None, fdel=None, doc=None])\n",
    "\n",
    "    def _get_saldo(self):\n",
    "        return self._saldo\n",
    "    \n",
    "    def _set_saldo(self, n_saldo):\n",
    "        if n_saldo < 0:\n",
    "                raise ValueError(\"El saldo no puede ser negativo\")\n",
    "        self._saldo = n_saldo\n",
    "\n",
    "    def _del_saldo(self):\n",
    "        raise TypeError(\"La cuenta debe tener saldo\")\n",
    "    \n",
    "    saldo = property(fget=_get_saldo, fset= _set_saldo, fdel= _del_saldo, doc= \"Saldo de la cuenta.\")\n",
    "    \n",
    "    \n",
    "\n",
    "\n"
   ]
  },
  {
   "cell_type": "code",
   "execution_count": 43,
   "id": "f30d8184-2b9e-4c8a-a898-90c3045b633d",
   "metadata": {
    "editable": false,
    "id": "f30d8184-2b9e-4c8a-a898-90c3045b633d",
    "tags": []
   },
   "outputs": [
    {
     "name": "stderr",
     "output_type": "stream",
     "text": [
      "test_del_saldo (__main__.TestCuentaBancaria.test_del_saldo) ... ok\n",
      "test_docstring_saldo (__main__.TestCuentaBancaria.test_docstring_saldo) ... ok\n",
      "test_get_saldo (__main__.TestCuentaBancaria.test_get_saldo) ... ok\n",
      "test_set_saldo_negativo (__main__.TestCuentaBancaria.test_set_saldo_negativo) ... ok\n",
      "test_set_saldo_valido (__main__.TestCuentaBancaria.test_set_saldo_valido) ... ok\n",
      "\n",
      "----------------------------------------------------------------------\n",
      "Ran 5 tests in 0.006s\n",
      "\n",
      "OK\n"
     ]
    },
    {
     "data": {
      "text/plain": [
       "True"
      ]
     },
     "execution_count": 43,
     "metadata": {},
     "output_type": "execute_result"
    }
   ],
   "source": [
    "from unittest import TestCase, main\n",
    "\n",
    "class TestCuentaBancaria(TestCase):\n",
    "\n",
    "    def setUp(self):\n",
    "        self.cuenta = CuentaBancaria(100)\n",
    "\n",
    "    def test_get_saldo(self):\n",
    "        self.assertEqual(self.cuenta.saldo, 100)\n",
    "\n",
    "    def test_set_saldo_valido(self):\n",
    "        self.cuenta.saldo = 200\n",
    "        self.assertEqual(self.cuenta.saldo, 200)\n",
    "\n",
    "    def test_set_saldo_negativo(self):\n",
    "        with self.assertRaises(ValueError):\n",
    "            self.cuenta.saldo = -50\n",
    "\n",
    "    def test_del_saldo(self):\n",
    "        with self.assertRaises(TypeError):\n",
    "            del self.cuenta.saldo\n",
    "\n",
    "    def test_docstring_saldo(self):\n",
    "        self.assertEqual(CuentaBancaria.saldo.__doc__, \"Saldo de la cuenta.\")\n",
    "\n",
    "test = main(argv=[\"\"], defaultTest=\"TestCuentaBancaria\", verbosity=2, exit=False)\n",
    "len(test.result.failures) == 0"
   ]
  },
  {
   "cell_type": "markdown",
   "id": "5b33b963-7c99-4797-bea2-f5e45d149e0d",
   "metadata": {
    "editable": false,
    "id": "5b33b963-7c99-4797-bea2-f5e45d149e0d",
    "tags": []
   },
   "source": [
    "### Ej5: Cifrado César\n",
    "\n",
    "En criptografía, el cifrado César, también conocido como cifrado por desplazamiento, código de César o desplazamiento de César, es una de las técnicas de cifrado más simple y más usada. Es un tipo de cifrado por sustitución en el que una letra en el texto original es reemplazada por otra letra que se encuentra un número fijo de posiciones más adelante en el alfabeto. Por ejemplo, con un desplazamiento de 3, la A será sustituida por la D (situada 3 lugares a la derecha de la A ), la B será reemplazada por la E, etc. Este método debe su nombre a Julio César, que lo usaba para comunicarse con sus generales.\n",
    "\n",
    "[Wikipedia: Cifrado Cesar](https://es.wikipedia.org/wiki/Cifrado_C%C3%A9sar)\n",
    "\n",
    "Escribir las funciones `cifrar(frase, clave)` y `descifrar(frase_cifrada, clave)`\n"
   ]
  },
  {
   "cell_type": "code",
   "execution_count": 75,
   "id": "68c14cb7-18be-412c-8531-88f1c0790efa",
   "metadata": {
    "editable": true,
    "id": "68c14cb7-18be-412c-8531-88f1c0790efa",
    "tags": []
   },
   "outputs": [],
   "source": [
    "import string #string para manejar cadenas\n",
    "import unicodedata #para manejar caracteres especiales\n",
    "\n",
    "def cifrar(frase, clave):\n",
    "    \"\"\" Cifra una frase usando la tecnica de Caesar, desplazando cada\n",
    "    letra la cantidad de caracteres indicado en la clave.\n",
    "\n",
    "    Argumentos:\n",
    "        frase: cadena de caracteres a cifrar (solo letras minusculas)\n",
    "        clave: un entero con la cantidad de posiciones a desplazar (entre 0\n",
    "        y 26)\n",
    "\n",
    "    Retorno:\n",
    "        Devuelve una cadena de caracteres con la frase cifrada. Si la\n",
    "        frase original contenia otros caracteres que no fueran letras\n",
    "        minusculas estos quedan inalterados en la cadena retornada\n",
    "    \"\"\"\n",
    "    #frase = acondicionar_frase(frase)\n",
    "    resultado = ''\n",
    "    for c in frase:\n",
    "        if 'a' <= c <= 'z':\n",
    "            codigo = ord(c) + clave\n",
    "            if codigo > ord('z'):\n",
    "                codigo = codigo - 26\n",
    "            c = chr(codigo)\n",
    "        resultado += c\n",
    "    return resultado\n",
    "        \n",
    "\n",
    "\n",
    "\n",
    "\n",
    "\n",
    "def descifrar(frase_cifrada, clave):\n",
    "    \"\"\" Devuelve la frase descifrada con la clave aplicando el metodo\n",
    "    Ceasar\n",
    "\n",
    "    Argumentos:\n",
    "        frase_cifrada: frase cifrada con el metodo Ceasar y la clave\n",
    "        clave: clave para descifrar, debe ser igual a la usada cuando\n",
    "        se cifro\n",
    "    Retorna:\n",
    "        frase descifrada\n",
    "    \"\"\"\n",
    "    #frase = acondicionar_frase(frase_cifrada)\n",
    "    resultado = ''\n",
    "    for c in frase_cifrada:\n",
    "        if 'a' <= c <= 'z':\n",
    "            codigo = ord(c) - clave\n",
    "            if codigo < ord('a'):\n",
    "                codigo = codigo + 26\n",
    "            c = chr(codigo)\n",
    "        resultado += c\n",
    "    return resultado\n",
    "\n",
    "def acondicionar_frase(frase):\n",
    "    \"\"\"Toma una frase y reemplaza caracteres especiales (Ej ç por c,\n",
    "    letras acentuadas, ñ por n, etc.)\n",
    "    Utiliza el modulo unicodedata\n",
    "\n",
    "    Argumentos:\n",
    "        frase: frase a acondicionar.\n",
    "    Retorna:\n",
    "        frase acondicionada\n",
    "    \"\"\"\n",
    "    return(''.join((c for c in unicodedata.normalize('NFD', frase)\\\n",
    "                    if unicodedata.category(c) != 'Mn')))"
   ]
  },
  {
   "cell_type": "code",
   "execution_count": 76,
   "id": "2dbf5303-6891-4ed9-a85e-3580e7499f3b",
   "metadata": {
    "editable": false,
    "id": "2dbf5303-6891-4ed9-a85e-3580e7499f3b",
    "tags": []
   },
   "outputs": [
    {
     "name": "stderr",
     "output_type": "stream",
     "text": [
      "test_cifrar (__main__.TestCesar.test_cifrar)\n",
      "Asegurarse que cifra bien con frases (sin normalizar) conocidas ... ok\n",
      "test_cifrar_descifrar (__main__.TestCesar.test_cifrar_descifrar)\n",
      "Asegurarse que si ciframos y desciframos con la misma clave ... ok\n",
      "test_clave_cero (__main__.TestCesar.test_clave_cero)\n",
      "Asegurarse que con clave 0 nos da la misma frase ... ok\n",
      "\n",
      "----------------------------------------------------------------------\n",
      "Ran 3 tests in 0.003s\n",
      "\n",
      "OK\n"
     ]
    },
    {
     "data": {
      "text/plain": [
       "True"
      ]
     },
     "execution_count": 76,
     "metadata": {},
     "output_type": "execute_result"
    }
   ],
   "source": [
    "from unittest import TestCase, main\n",
    "import random\n",
    "\n",
    "class TestCesar(TestCase):\n",
    "    def setUp(self):\n",
    "        self.frases=['Rosita Wachenchauzer', 'estructura de datos', 'Martín Albarracín']\n",
    "        self.cifradas3=['Rrvlwd Wdfkhqfkdxchu', 'hvwuxfwxud gh gdwrv', 'Mduwíq Aoeduudfíq']\n",
    "\n",
    "    def test_clave_cero(self):\n",
    "        \"\"\"Asegurarse que con clave 0 nos da la misma frase\n",
    "        \"\"\"\n",
    "        for f in self.frases:\n",
    "            self.assertEqual(cifrar(f,0), f)\n",
    "\n",
    "    def test_cifrar(self):\n",
    "        \"\"\"Asegurarse que cifra bien con frases (sin normalizar) conocidas\n",
    "        \"\"\"\n",
    "        clave=3\n",
    "        for i in range (len(self.frases)):\n",
    "            self.assertEqual(cifrar(self.frases[i], clave), self.cifradas3[i])\n",
    "\n",
    "\n",
    "    def test_cifrar_descifrar(self):\n",
    "        \"\"\"Asegurarse que si ciframos y desciframos con la misma clave\n",
    "        se obtiene de nuevo la frase original\n",
    "        \"\"\"\n",
    "        clave=random.randint(0, 26)\n",
    "        for f in self.frases:\n",
    "            self.assertEqual(descifrar(cifrar(f, clave), clave),f)\n",
    "\n",
    "\n",
    "test = main(argv=[\"\"], defaultTest=\"TestCesar\", verbosity=2, exit=False)\n",
    "len(test.result.failures) == 0"
   ]
  }
 ],
 "metadata": {
  "colab": {
   "provenance": []
  },
  "kernelspec": {
   "display_name": "Python 3",
   "language": "python",
   "name": "python3"
  },
  "language_info": {
   "codemirror_mode": {
    "name": "ipython",
    "version": 3
   },
   "file_extension": ".py",
   "mimetype": "text/x-python",
   "name": "python",
   "nbconvert_exporter": "python",
   "pygments_lexer": "ipython3",
   "version": "3.13.7"
  },
  "rise": {
   "start_slideshow_at": "beginning"
  }
 },
 "nbformat": 4,
 "nbformat_minor": 5
}
