{
 "cells": [
  {
   "cell_type": "markdown",
   "id": "d6d22675",
   "metadata": {},
   "source": [
    "<p style=\"text-align: center\">\n",
    "    <img src=\"data:image/svg+xml,%3Csvg%20version%3D%221.2%22%20baseProfile%3D%22tiny%22%20xmlns%3D%22http%3A%2F%2Fwww.w3.org%2F2000%2Fsvg%22%20viewBox%3D%220%200%20136.5%2058%22%20height%3D%2250%22%20overflow%3D%22visible%22%20xml%3Aspace%3D%22preserve%22%3E%3Cg%20fill%3D%22%23141819%22%3E%3Cpath%20d%3D%22M0%2033.4h1v6.3c0%201.1.5%201.7%201.7%201.7s1.7-.5%201.7-1.7v-6.3h1v6.3c0%201.8-1%202.5-2.7%202.5-1.7.1-2.7-.7-2.7-2.5v-6.3zM8.1%2042.2v-8.8h1.3l3.2%207h.1v-7h1v8.8h-1.3l-3.3-7.3H9v7.3zM16.5%2033.4h1v8.7h-1zM24.4%2033.4h1l-2.3%208.8h-1.4l-2.3-8.8h1.1l1.9%207.5h.1zM27.4%2042.2v-8.8h4.7v.9h-3.7v2.9h3.2v.9h-3.2v3.2h3.9v.9zM35.3%2037.6h1.8c1.1%200%201.6-.5%201.6-1.6s-.5-1.6-1.6-1.6h-1.8v3.2zm0%204.6h-1v-8.7h3c1.6%200%202.5.9%202.5%202.5%200%201.3-.6%202-1.2%202.3l1.3%203.9h-1.1l-1.2-3.6h-2.3v3.6zM46.7%2035.6c-.1-1-.6-1.4-1.7-1.4-1%200-1.7.4-1.7%201.4%200%201%20.8%201.2%201.9%201.6%201.4.4%202.7.9%202.7%202.6%200%201.7-1.1%202.5-2.8%202.5-1.8%200-2.8-.8-2.9-2.5l1-.1c.1%201.2.7%201.7%201.9%201.7%201.1%200%201.8-.5%201.8-1.5s-.6-1.3-1.9-1.7c-1.4-.4-2.6-.8-2.6-2.5s1.1-2.4%202.8-2.4c1.6%200%202.6.6%202.8%202.2l-1.3.1zM50.2%2033.4h1v8.7h-1zM55%2041.3h1.9c1%200%201.7-.5%201.7-1.5v-4c0-1-.6-1.5-1.7-1.5H55v7zm-1-7.9h2.8c1.8%200%202.8.7%202.8%202.5v3.7c0%201.8-1%202.5-2.8%202.5H54v-8.7zM63.2%2039.1H66l-1.3-4.6h-.1l-1.4%204.6zm-.8%203.1h-1.1l2.6-8.7h1.5l2.6%208.7h-1.1l-.6-2.2H63l-.6%202.2zM70.9%2041.3h1.9c1%200%201.7-.5%201.7-1.5v-4c0-1-.6-1.5-1.7-1.5h-1.9v7zm-1.1-7.9h2.8c1.8%200%202.8.7%202.8%202.5v3.7c0%201.8-1%202.5-2.8%202.5h-2.8v-8.7zM81.3%2042.2v-8.8h1.3l3.2%207h.1v-7h1v8.8h-1.3l-3.3-7.3h-.1v7.3zM90.7%2039.1h2.8l-1.3-4.6H92l-1.3%204.6zm-.9%203.1h-1.1l2.6-8.7h1.5l2.6%208.7h-1.1l-.6-2.2h-3.3l-.6%202.2zM101.2%2036.1v-.4c0-1.1-.5-1.5-1.7-1.5-1.1%200-1.8.4-1.8%201.5v4.1c0%201.1.6%201.5%201.8%201.5%201.1%200%201.7-.5%201.7-1.5v-.4l1%20.1v.1c0%201.8-.9%202.6-2.7%202.6-1.8%200-2.8-.7-2.8-2.5v-4c0-1.8%201-2.5%202.8-2.5%201.8%200%202.7.7%202.7%202.6v.2l-1%20.1zM104.7%2033.4h1v8.7h-1zM109.3%2039.9c0%201.1.7%201.5%201.8%201.5s1.8-.4%201.8-1.5v-4.1c0-1.1-.7-1.5-1.8-1.5s-1.8.4-1.8%201.5v4.1zm-1-4.1c0-1.9%201-2.5%202.8-2.5%201.8%200%202.8.7%202.8%202.5v3.9c0%201.9-1%202.5-2.8%202.5-1.8%200-2.8-.7-2.8-2.5v-3.9zM116.5%2042.2v-8.8h1.3l3.2%207h.1v-7h.9v8.8h-1.2l-3.3-7.3h-.1v7.3zM125.9%2039.1h2.8l-1.3-4.6h-.1l-1.4%204.6zm-.9%203.1h-1.1l2.6-8.7h1.5l2.6%208.7h-1.1l-.6-2.1h-3.3l-.6%202.1zM132.5%2042.2v-8.8h1v7.9h3v.9zM1.2%2057h1.9c1%200%201.7-.5%201.7-1.5v-4c0-1-.6-1.5-1.7-1.5H1.2v7zM.1%2049.1H3c1.8%200%202.8.7%202.8%202.5v3.7c0%201.8-1%202.5-2.8%202.5H.1v-8.7zM8.3%2057.9v-8.8H13v.9H9.3v2.9h3.3v.9H9.3V57h3.9v.9zM19.7%2050.1h-2.1v-1h5.1v1h-2v7.8h-1zM25.6%2053.3h1.8c1.1%200%201.6-.5%201.6-1.6s-.5-1.6-1.6-1.6h-1.8v3.2zm0%204.6h-1v-8.7h3c1.6%200%202.5.9%202.5%202.5%200%201.3-.6%202-1.2%202.3l1.3%203.9h-1.1l-1.2-3.6h-2.3v3.6zM32.8%2057.9v-8.8h4.7v.9h-3.7v2.9H37v.9h-3.2V57h3.9v.9zM44%2051.3c-.1-1-.6-1.4-1.7-1.4-1%200-1.7.4-1.7%201.4%200%201%20.8%201.2%201.9%201.6%201.4.4%202.7.9%202.7%202.6%200%201.7-1.1%202.5-2.8%202.5-1.8%200-2.8-.8-2.9-2.5l1-.1c.1%201.2.7%201.7%201.9%201.7%201.1%200%201.8-.5%201.8-1.5s-.6-1.3-1.9-1.7c-1.4-.4-2.6-.8-2.6-2.5s1.1-2.4%202.8-2.4c1.6%200%202.6.6%202.8%202.2l-1.3.1zM51.8%2057h1.9c1.1%200%201.7-.5%201.7-1.5v-4c0-1-.6-1.5-1.7-1.5h-1.9v7zm-1-7.9h2.8c1.8%200%202.8.7%202.8%202.5v3.7c0%201.8-1%202.5-2.8%202.5h-2.8v-8.7zM58.9%2057.9v-8.8h4.7v.9h-3.7v2.9h3.3v.9h-3.3V57h3.9v.9zM69.2%2057.9v-8.8h4.4v.9h-3.4v2.9h3v.9h-3v4.1zM75.6%2057.9v-8.8h4.7v.9h-3.7v2.9h3.2v.9h-3.2V57h3.9v.9zM83.5%2057h2.1c1.1%200%201.7-.6%201.7-1.6%200-1.1-.6-1.6-1.7-1.6h-2V57zm0-4.1h2c1%200%201.5-.5%201.5-1.4%200-1-.5-1.4-1.5-1.4h-2v2.8zm-1-3.8h3.3c1.6%200%202.3.7%202.3%202.2%200%201-.3%201.6-1%201.9v.1c.6.2%201.2.9%201.2%202.1%200%201.5-.7%202.4-2.4%202.4h-3.4v-8.7zM91.9%2053.3h1.8c1.1%200%201.6-.5%201.6-1.6s-.5-1.6-1.6-1.6h-1.8v3.2zm0%204.6h-1v-8.7h3c1.6%200%202.5.9%202.5%202.5%200%201.3-.6%202-1.2%202.3l1.3%203.9h-1.1l-1.2-3.6h-2.3v3.6zM99%2057.9v-8.8h4.7v.9H100v2.9h3.3v.9H100V57h3.9v.9zM107%2053.3h1.8c1.1%200%201.6-.5%201.6-1.6s-.5-1.6-1.6-1.6H107v3.2zm0%204.6h-1v-8.7h3c1.6%200%202.5.9%202.5%202.5%200%201.3-.6%202-1.2%202.3l1.3%203.9h-1.1l-1.2-3.6H107v3.6zM114.9%2055.6c0%201.1.7%201.5%201.8%201.5s1.8-.4%201.8-1.5v-4.1c0-1.1-.7-1.5-1.8-1.5s-1.8.4-1.8%201.5v4.1zm-1-4.1c0-1.9%201-2.5%202.8-2.5%201.8%200%202.8.7%202.8%202.5v3.9c0%201.9-1%202.5-2.8%202.5-1.8%200-2.8-.7-2.8-2.5v-3.9zM0%2023.7h96.4v3.6H0zM69.1%2017.5V0h11.5v2.9h-8V7h7.3v2.9h-7.3v4.7H81v2.9H69.1zm16.2%200V0h11v2.9h-7.6V7h6.9v2.9h-6.9v7.6h-3.4zm-30.8%200H51V0h7.2C62.1%200%2064%201.8%2064%205.3c0%202.8-1.4%204.1-2.7%204.6l2.9%207.6h-3.8l-2.4-7h-3.5v7zm0-9.8h2.9c2%200%203-.6%203-2.5s-1-2.5-3-2.5h-2.9v5zM39.9%202.9h-4.4V0h12.4v2.9h-4.4v14.6H40V2.9zM18.8%2017.5V0h4.1l5.8%2011.7h.2V0h3.4v17.5h-4L22.2%205.3H22v12.2h-3.2zM.1%200h3.5v12.1c0%202%201%202.8%203%202.8s3-.8%203-2.8V0h3.5v12.1c0%203.8-2.3%205.7-6.5%205.7S.1%2015.9.1%2012.1V0z%22%2F%3E%3C%2Fg%3E%3C%2Fsvg%3E\" />\n",
    "</p>\n",
    "\n",
    "<h2 style=\"text-align: center\">Estructura de Datos</h2>\n",
    "<h3 style=\"text-align: center\">Índices Invertidos: Compresión y Árboles B</h3>\n",
    "<h3 style=\"text-align: center\">Guía de Ejercicios</h3>"
   ]
  },
  {
   "cell_type": "markdown",
   "id": "ea37c6b2",
   "metadata": {},
   "source": [
    "#### Ejercicio 1:\n",
    "\n",
    "Comprimir la siguiente lista de apariciones, de una palabra en un índice invertido utilizando la técnica de codificación Variable Byte Encoding (VBE):\n",
    "\n",
    "217548 283000 297017 570011 570017\n"
   ]
  },
  {
   "cell_type": "markdown",
   "id": "8410610d",
   "metadata": {},
   "source": [
    "Solución"
   ]
  },
  {
   "cell_type": "markdown",
   "id": "97a81e68",
   "metadata": {},
   "source": [
    "#### Ejercicio 2:\n",
    "\n",
    "Dada la siguiente lista de apariciones comprimida utilizando la técnica de codificación Variable Byte Encoding (VBE):\n",
    "\n",
    "01110101 01000110 0000011 10010111 10001110 01001100 10000011 0001011 00111001 11111110 100000100\n",
    "\n",
    "Descomprimirla para obtener la lista original de apariciones de una palabra en un índice invertido."
   ]
  },
  {
   "cell_type": "markdown",
   "id": "f2e70972",
   "metadata": {},
   "source": [
    "Solución"
   ]
  },
  {
   "cell_type": "markdown",
   "id": "4ef84a59",
   "metadata": {},
   "source": [
    "#### Ejercicio 3:\n",
    "\n",
    "Aplicar la técnica de blockstorage para comprimir la siguiente lista de términos [cardamomo, cardán, cardar, cardenal, cardenalato, cardenalicio, cardencha, cardenillo, cárdeno, cardiaco, cardias, cárdigan, cardillo, cardinal] considerando que el tamaño del bloque es 7. "
   ]
  },
  {
   "cell_type": "markdown",
   "id": "bf900b8a",
   "metadata": {},
   "source": [
    "Solución"
   ]
  },
  {
   "cell_type": "markdown",
   "id": "36ee0262",
   "metadata": {},
   "source": [
    "#### Ejercicio 4:\n",
    "\n",
    "En un árbol B+ de orden 5, inicialmente vacío, insertar las siguientes claves en el orden dado: \n",
    "50, 20, 70, 10, 30, 60, 80, 40, 90, 25, 11, 47, 58, 25"
   ]
  },
  {
   "cell_type": "markdown",
   "id": "1e9b8149",
   "metadata": {},
   "source": [
    "Solución"
   ]
  },
  {
   "cell_type": "markdown",
   "id": "88b85ab9",
   "metadata": {},
   "source": [
    "#### Ejercicio 5:\n",
    "\n",
    "Dado el siguiente corpus de documentos. \n",
    "\n",
    "- Mostrar, graficando las estructuras de datos a cada paso y justificando, la construcción de un índice invertido sobre árboles B+ de orden M = 3.\n",
    "- Mostrar como se acondicionan las palabras para ingresarlas al índice considerando el siguiente conjunto de stop words={ del, el, en, la, las,  me, no, porque, te, un }. El índice invertido generado debe permitir realizar búsquedas con el comodín *.\n",
    "- Mostrar paso a paso sobre el índice construido en el paso anterior, cómo se busca la palabras que empiecen con m y terminen con r. Justificar\n",
    "\n",
    "```python\n",
    "doc1: \"me gusta el mar y la gente simple\"\n",
    "doc2: \"No corre en el bosque un soplo de aire fresco\"\n",
    "doc3: \"porque ahora te cubren las sombras congeladas del menor tiempo y la mayor distancia\"\n",
    "```"
   ]
  },
  {
   "cell_type": "markdown",
   "id": "3cd5c1c1",
   "metadata": {},
   "source": [
    "Solución"
   ]
  }
 ],
 "metadata": {
  "kernelspec": {
   "display_name": "edd",
   "language": "python",
   "name": "python3"
  },
  "language_info": {
   "codemirror_mode": {
    "name": "ipython",
    "version": 3
   },
   "file_extension": ".py",
   "mimetype": "text/x-python",
   "name": "python",
   "nbconvert_exporter": "python",
   "pygments_lexer": "ipython3",
   "version": "3.13.3"
  }
 },
 "nbformat": 4,
 "nbformat_minor": 5
}
