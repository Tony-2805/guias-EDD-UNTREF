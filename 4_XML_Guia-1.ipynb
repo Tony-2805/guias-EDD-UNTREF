{
 "cells": [
  {
   "cell_type": "markdown",
   "id": "860e6460-0c22-48d3-a342-9b594d05f207",
   "metadata": {
    "editable": true,
    "slideshow": {
     "slide_type": ""
    },
    "tags": []
   },
   "source": [
    "<p style=\"text-align: center;\"><center><img src=\"data:image/svg+xml,%3Csvg%20version%3D%221.2%22%20baseProfile%3D%22tiny%22%20id%3D%22Capa_1%22%20xmlns%3D%22http%3A%2F%2Fwww.w3.org%2F2000%2Fsvg%22%20xmlns%3Axlink%3D%22http%3A%2F%2Fwww.w3.org%2F1999%2Fxlink%22%20x%3D%220px%22%20y%3D%220px%22%20viewBox%3D%220%200%20136.5%2058%22%20width%3D%22136%22%20height%3D%2258%22%20overflow%3D%22visible%22%20xml%3Aspace%3D%22preserve%22%3E%3Cstyle%20type%3D%22text%2Fcss%22%3Epath%2Cpolygon%2Crect%7Bfill%3A%231e1f1d%21important%7D%40media%20%28prefers-color-scheme%3Adark%29%7Bpath%2Cpolygon%2Crect%7Bfill%3A%23e1e0e2%21important%7D%7D%3C%2Fstyle%3E%3Cg%3E%3Cpath%20d%3D%22M0%2C33.4h1v6.3c0%2C1.1%2C0.5%2C1.7%2C1.7%2C1.7s1.7-0.5%2C1.7-1.7v-6.3h1v6.3c0%2C1.8-1%2C2.5-2.7%2C2.5C1%2C42.3%2C0%2C41.5%2C0%2C39.7%20V33.4z%22%3E%3C%2Fpath%3E%3Cpolygon%20points%3D%228.1%2C42.2%208.1%2C33.4%209.4%2C33.4%2012.6%2C40.4%2012.7%2C40.4%2012.7%2C33.4%2013.7%2C33.4%2013.7%2C42.2%2012.4%2C42.2%209.1%2C34.9%209%2C34.9%209%2C42.2%22%3E%3C%2Fpolygon%3E%3Crect%20x%3D%2216.5%22%20width%3D%221%22%20y%3D%2233.4%22%20height%3D%228.7%22%3E%3C%2Frect%3E%3Cpolygon%20points%3D%2224.4%2C33.4%2025.4%2C33.4%2023.1%2C42.2%2021.7%2C42.2%2019.4%2C33.4%2020.5%2C33.4%2022.4%2C40.9%2022.5%2C40.9%22%3E%3C%2Fpolygon%3E%3Cpolygon%20points%3D%2227.4%2C42.2%2027.4%2C33.4%2032.1%2C33.4%2032.1%2C34.3%2028.4%2C34.3%2028.4%2C37.2%2031.6%2C37.2%2031.6%2C38.1%2028.4%2C38.1%2028.4%2C41.3%2032.3%2C41.3%2032.3%2C42.2%22%3E%3C%2Fpolygon%3E%3Cpath%20d%3D%22M35.3%2C37.6h1.8c1.1%2C0%2C1.6-0.5%2C1.6-1.6c0-1.1-0.5-1.6-1.6-1.6h-1.8V37.6z%20M35.3%2C42.2h-1v-8.7h3%20c1.6%2C0%2C2.5%2C0.9%2C2.5%2C2.5c0%2C1.3-0.6%2C2-1.2%2C2.3l1.3%2C3.9h-1.1l-1.2-3.6h-2.3V42.2z%22%3E%3C%2Fpath%3E%3Cpath%20d%3D%22M46.7%2C35.6c-0.1-1-0.6-1.4-1.7-1.4c-1%2C0-1.7%2C0.4-1.7%2C1.4c0%2C1%2C0.8%2C1.2%2C1.9%2C1.6c1.4%2C0.4%2C2.7%2C0.9%2C2.7%2C2.6%20c0%2C1.7-1.1%2C2.5-2.8%2C2.5c-1.8%2C0-2.8-0.8-2.9-2.5l1-0.1c0.1%2C1.2%2C0.7%2C1.7%2C1.9%2C1.7c1.1%2C0%2C1.8-0.5%2C1.8-1.5c0-1-0.6-1.3-1.9-1.7%20c-1.4-0.4-2.6-0.8-2.6-2.5c0-1.7%2C1.1-2.4%2C2.8-2.4c1.6%2C0%2C2.6%2C0.6%2C2.8%2C2.2L46.7%2C35.6z%22%3E%3C%2Fpath%3E%3Crect%20x%3D%2250.2%22%20width%3D%221%22%20y%3D%2233.4%22%20height%3D%228.7%22%3E%3C%2Frect%3E%3Cpath%20d%3D%22M55%2C41.3h1.9c1%2C0%2C1.7-0.5%2C1.7-1.5v-4c0-1-0.6-1.5-1.7-1.5H55V41.3z%20M54%2C33.4h2.8c1.8%2C0%2C2.8%2C0.7%2C2.8%2C2.5v3.7%20c0%2C1.8-1%2C2.5-2.8%2C2.5H54V33.4z%22%3E%3C%2Fpath%3E%3Cpath%20d%3D%22M63.2%2C39.1H66l-1.3-4.6h-0.1L63.2%2C39.1z%20M62.4%2C42.2h-1.1l2.6-8.7h1.5l2.6%2C8.7h-1.1L66.3%2C40H63L62.4%2C42.2z%22%3E%3C%2Fpath%3E%3Cpath%20d%3D%22M70.9%2C41.3h1.9c1%2C0%2C1.7-0.5%2C1.7-1.5v-4c0-1-0.6-1.5-1.7-1.5h-1.9V41.3z%20M69.8%2C33.4h2.8%20c1.8%2C0%2C2.8%2C0.7%2C2.8%2C2.5v3.7c0%2C1.8-1%2C2.5-2.8%2C2.5h-2.8V33.4z%22%3E%3C%2Fpath%3E%3Cpolygon%20points%3D%2281.3%2C42.2%2081.3%2C33.4%2082.6%2C33.4%2085.8%2C40.4%2085.9%2C40.4%2085.9%2C33.4%2086.9%2C33.4%2086.9%2C42.2%2085.6%2C42.2%2082.3%2C34.9%2082.2%2C34.9%2082.2%2C42.2%22%3E%3C%2Fpolygon%3E%3Cpath%20d%3D%22M90.7%2C39.1h2.8l-1.3-4.6H92L90.7%2C39.1z%20M89.8%2C42.2h-1.1l2.6-8.7h1.5l2.6%2C8.7h-1.1L93.7%2C40h-3.3L89.8%2C42.2z%22%3E%3C%2Fpath%3E%3Cpath%20d%3D%22M101.2%2C36.1v-0.4c0-1.1-0.5-1.5-1.7-1.5c-1.1%2C0-1.8%2C0.4-1.8%2C1.5v4.1c0%2C1.1%2C0.6%2C1.5%2C1.8%2C1.5%20c1.1%2C0%2C1.7-0.5%2C1.7-1.5v-0.4l1%2C0.1v0.1c0%2C1.8-0.9%2C2.6-2.7%2C2.6c-1.8%2C0-2.8-0.7-2.8-2.5v-4c0-1.8%2C1-2.5%2C2.8-2.5%20c1.8%2C0%2C2.7%2C0.7%2C2.7%2C2.6V36L101.2%2C36.1z%22%3E%3C%2Fpath%3E%3Crect%20x%3D%22104.7%22%20width%3D%221%22%20y%3D%2233.4%22%20height%3D%228.7%22%3E%3C%2Frect%3E%3Cpath%20d%3D%22M109.3%2C39.9c0%2C1.1%2C0.7%2C1.5%2C1.8%2C1.5c1.1%2C0%2C1.8-0.4%2C1.8-1.5v-4.1c0-1.1-0.7-1.5-1.8-1.5%20c-1.1%2C0-1.8%2C0.4-1.8%2C1.5V39.9z%20M108.3%2C35.8c0-1.9%2C1-2.5%2C2.8-2.5c1.8%2C0%2C2.8%2C0.7%2C2.8%2C2.5v3.9c0%2C1.9-1%2C2.5-2.8%2C2.5%20c-1.8%2C0-2.8-0.7-2.8-2.5V35.8z%22%3E%3C%2Fpath%3E%3Cpolygon%20points%3D%22116.5%2C42.2%20116.5%2C33.4%20117.8%2C33.4%20121%2C40.4%20121.1%2C40.4%20121.1%2C33.4%20122%2C33.4%20122%2C42.2%20120.8%2C42.2%20117.5%2C34.9%20117.4%2C34.9%20117.4%2C42.2%22%3E%3C%2Fpolygon%3E%3Cpath%20d%3D%22M125.9%2C39.1h2.8l-1.3-4.6h-0.1L125.9%2C39.1z%20M125%2C42.2h-1.1l2.6-8.7h1.5l2.6%2C8.7h-1.1l-0.6-2.1h-3.3%20L125%2C42.2z%22%3E%3C%2Fpath%3E%3Cpolygon%20points%3D%22132.5%2C42.2%20132.5%2C33.4%20133.5%2C33.4%20133.5%2C41.3%20136.5%2C41.3%20136.5%2C42.2%22%3E%3C%2Fpolygon%3E%3Cpath%20d%3D%22M1.2%2C57h1.9c1%2C0%2C1.7-0.5%2C1.7-1.5v-4c0-1-0.6-1.5-1.7-1.5H1.2V57z%20M0.1%2C49.1H3c1.8%2C0%2C2.8%2C0.7%2C2.8%2C2.5v3.7%20c0%2C1.8-1%2C2.5-2.8%2C2.5H0.1V49.1z%22%3E%3C%2Fpath%3E%3Cpolygon%20points%3D%228.3%2C57.9%208.3%2C49.1%2013%2C49.1%2013%2C50%209.3%2C50%209.3%2C52.9%2012.6%2C52.9%2012.6%2C53.8%209.3%2C53.8%209.3%2C57%2013.2%2C57%2013.2%2C57.9%22%3E%3C%2Fpolygon%3E%3Cpolygon%20points%3D%2219.7%2C50.1%2017.6%2C50.1%2017.6%2C49.1%2022.7%2C49.1%2022.7%2C50.1%2020.7%2C50.1%2020.7%2C57.9%2019.7%2C57.9%22%3E%3C%2Fpolygon%3E%3Cpath%20d%3D%22M25.6%2C53.3h1.8c1.1%2C0%2C1.6-0.5%2C1.6-1.6c0-1.1-0.5-1.6-1.6-1.6h-1.8V53.3z%20M25.6%2C57.9h-1v-8.7h3%20c1.6%2C0%2C2.5%2C0.9%2C2.5%2C2.5c0%2C1.3-0.6%2C2-1.2%2C2.3l1.3%2C3.9h-1.1l-1.2-3.6h-2.3V57.9z%22%3E%3C%2Fpath%3E%3Cpolygon%20points%3D%2232.8%2C57.9%2032.8%2C49.1%2037.5%2C49.1%2037.5%2C50%2033.8%2C50%2033.8%2C52.9%2037%2C52.9%2037%2C53.8%2033.8%2C53.8%2033.8%2C57%2037.7%2C57%2037.7%2C57.9%22%3E%3C%2Fpolygon%3E%3Cpath%20d%3D%22M44%2C51.3c-0.1-1-0.6-1.4-1.7-1.4c-1%2C0-1.7%2C0.4-1.7%2C1.4c0%2C1%2C0.8%2C1.2%2C1.9%2C1.6c1.4%2C0.4%2C2.7%2C0.9%2C2.7%2C2.6%20c0%2C1.7-1.1%2C2.5-2.8%2C2.5c-1.8%2C0-2.8-0.8-2.9-2.5l1-0.1c0.1%2C1.2%2C0.7%2C1.7%2C1.9%2C1.7c1.1%2C0%2C1.8-0.5%2C1.8-1.5c0-1-0.6-1.3-1.9-1.7%20c-1.4-0.4-2.6-0.8-2.6-2.5c0-1.7%2C1.1-2.4%2C2.8-2.4c1.6%2C0%2C2.6%2C0.6%2C2.8%2C2.2L44%2C51.3z%22%3E%3C%2Fpath%3E%3Cpath%20d%3D%22M51.8%2C57h1.9c1.1%2C0%2C1.7-0.5%2C1.7-1.5v-4c0-1-0.6-1.5-1.7-1.5h-1.9V57z%20M50.8%2C49.1h2.8c1.8%2C0%2C2.8%2C0.7%2C2.8%2C2.5%20v3.7c0%2C1.8-1%2C2.5-2.8%2C2.5h-2.8V49.1z%22%3E%3C%2Fpath%3E%3Cpolygon%20points%3D%2258.9%2C57.9%2058.9%2C49.1%2063.6%2C49.1%2063.6%2C50%2059.9%2C50%2059.9%2C52.9%2063.2%2C52.9%2063.2%2C53.8%2059.9%2C53.8%2059.9%2C57%2063.8%2C57%2063.8%2C57.9%22%3E%3C%2Fpolygon%3E%3Cpolygon%20points%3D%2269.2%2C57.9%2069.2%2C49.1%2073.6%2C49.1%2073.6%2C50%2070.2%2C50%2070.2%2C52.9%2073.2%2C52.9%2073.2%2C53.8%2070.2%2C53.8%2070.2%2C57.9%22%3E%3C%2Fpolygon%3E%3Cpolygon%20points%3D%2275.6%2C57.9%2075.6%2C49.1%2080.3%2C49.1%2080.3%2C50%2076.6%2C50%2076.6%2C52.9%2079.8%2C52.9%2079.8%2C53.8%2076.6%2C53.8%2076.6%2C57%2080.5%2C57%2080.5%2C57.9%22%3E%3C%2Fpolygon%3E%3Cpath%20d%3D%22M83.5%2C57h2.1c1.1%2C0%2C1.7-0.6%2C1.7-1.6c0-1.1-0.6-1.6-1.7-1.6h-2V57z%20M83.5%2C52.9h2c1%2C0%2C1.5-0.5%2C1.5-1.4%20c0-1-0.5-1.4-1.5-1.4h-2V52.9z%20M82.5%2C49.1h3.3c1.6%2C0%2C2.3%2C0.7%2C2.3%2C2.2c0%2C1-0.3%2C1.6-1%2C1.9v0.1c0.6%2C0.2%2C1.2%2C0.9%2C1.2%2C2.1%20c0%2C1.5-0.7%2C2.4-2.4%2C2.4h-3.4V49.1z%22%3E%3C%2Fpath%3E%3Cpath%20d%3D%22M91.9%2C53.3h1.8c1.1%2C0%2C1.6-0.5%2C1.6-1.6c0-1.1-0.5-1.6-1.6-1.6h-1.8V53.3z%20M91.9%2C57.9h-1v-8.7h3%20c1.6%2C0%2C2.5%2C0.9%2C2.5%2C2.5c0%2C1.3-0.6%2C2-1.2%2C2.3l1.3%2C3.9h-1.1l-1.2-3.6h-2.3V57.9z%22%3E%3C%2Fpath%3E%3Cpolygon%20points%3D%2299%2C57.9%2099%2C49.1%20103.7%2C49.1%20103.7%2C50%20100%2C50%20100%2C52.9%20103.3%2C52.9%20103.3%2C53.8%20100%2C53.8%20100%2C57%20103.9%2C57%20103.9%2C57.9%22%3E%3C%2Fpolygon%3E%3Cpath%20d%3D%22M107%2C53.3h1.8c1.1%2C0%2C1.6-0.5%2C1.6-1.6c0-1.1-0.5-1.6-1.6-1.6H107V53.3z%20M107%2C57.9h-1v-8.7h3%20c1.6%2C0%2C2.5%2C0.9%2C2.5%2C2.5c0%2C1.3-0.6%2C2-1.2%2C2.3l1.3%2C3.9h-1.1l-1.2-3.6H107V57.9z%22%3E%3C%2Fpath%3E%3Cpath%20d%3D%22M114.9%2C55.6c0%2C1.1%2C0.7%2C1.5%2C1.8%2C1.5c1.1%2C0%2C1.8-0.4%2C1.8-1.5v-4.1c0-1.1-0.7-1.5-1.8-1.5%20c-1.1%2C0-1.8%2C0.4-1.8%2C1.5V55.6z%20M113.9%2C51.5c0-1.9%2C1-2.5%2C2.8-2.5c1.8%2C0%2C2.8%2C0.7%2C2.8%2C2.5v3.9c0%2C1.9-1%2C2.5-2.8%2C2.5%20c-1.8%2C0-2.8-0.7-2.8-2.5V51.5z%22%3E%3C%2Fpath%3E%3Crect%20y%3D%2223.7%22%20width%3D%2296.4%22%20height%3D%223.6%22%3E%3C%2Frect%3E%3Cpath%20d%3D%22M69.1%2C17.5V0h11.5v2.9h-8V7h7.3v2.9h-7.3v4.7H81v2.9H69.1z%20M85.3%2C17.5V0h11v2.9h-7.6V7h6.9v2.9h-6.9v7.6%20H85.3z%20M54.5%2C17.5H51V0h7.2C62.1%2C0%2C64%2C1.8%2C64%2C5.3c0%2C2.8-1.4%2C4.1-2.7%2C4.6l2.9%2C7.6h-3.8L58%2C10.5h-3.5V17.5z%20M54.5%2C7.7h2.9%20c2%2C0%2C3-0.6%2C3-2.5c0-1.9-1-2.5-3-2.5h-2.9V7.7z%20M39.9%2C2.9h-4.4V0h12.4v2.9h-4.4v14.6h-3.5V2.9z%20M18.8%2C17.5V0h4.1l5.8%2C11.7h0.2V0h3.4%20v17.5h-4L22.2%2C5.3h-0.2v12.2H18.8z%20M0.1%2C0h3.5v12.1c0%2C2%2C1%2C2.8%2C3%2C2.8c2%2C0%2C3-0.8%2C3-2.8V0h3.5v12.1c0%2C3.8-2.3%2C5.7-6.5%2C5.7%20c-4.2%2C0-6.5-1.9-6.5-5.7V0z%22%3E%3C%2Fpath%3E%3C%2Fg%3E%3C%2Fsvg%3E\" /></center></p>\n",
    "\n",
    "<h2 style=\"text-align: center\">Estructura de Datos</h2>\n",
    "\n",
    "<h3 style=\"text-align: center\">XML y XPath</h3>\n",
    "\n",
    "<h3 style=\"text-align: center\">Guía de Ejercicios</h3>"
   ]
  },
  {
   "cell_type": "code",
   "execution_count": 1,
   "id": "644088e7",
   "metadata": {
    "editable": true,
    "slideshow": {
     "slide_type": ""
    },
    "tags": []
   },
   "outputs": [
    {
     "name": "stdout",
     "output_type": "stream",
     "text": [
      "Collecting lxml\n",
      "  Downloading lxml-6.0.2-cp313-cp313-win_amd64.whl.metadata (3.7 kB)\n",
      "Downloading lxml-6.0.2-cp313-cp313-win_amd64.whl (4.0 MB)\n",
      "   ---------------------------------------- 0.0/4.0 MB ? eta -:--:--\n",
      "   -------------------- ------------------- 2.1/4.0 MB 15.8 MB/s eta 0:00:01\n",
      "   ---------------------------------------- 4.0/4.0 MB 11.8 MB/s  0:00:00\n",
      "Installing collected packages: lxml\n",
      "Successfully installed lxml-6.0.2\n",
      "Note: you may need to restart the kernel to use updated packages.\n"
     ]
    },
    {
     "name": "stderr",
     "output_type": "stream",
     "text": [
      "\n",
      "[notice] A new release of pip is available: 25.2 -> 25.3\n",
      "[notice] To update, run: python.exe -m pip install --upgrade pip\n"
     ]
    }
   ],
   "source": [
    "# Ejecutar si hace falta instalar las librerias\n",
    "%pip install lxml"
   ]
  },
  {
   "cell_type": "markdown",
   "id": "e9960008-44af-4e4c-9c10-9fa3f2e4f1fe",
   "metadata": {
    "editable": true,
    "slideshow": {
     "slide_type": ""
    },
    "tags": []
   },
   "source": [
    "### Ejercicio 1\n",
    "\n",
    "Dado el siguiente archivo con datos de rascacielos y sus ubicaciones, escribir escribir un programa en Python que devuelva.\n",
    "\n",
    "1. Altura de los edificios construidos hasta 2010.\n",
    "\n",
    "2. Años en los que se completaron rascacielos de más de 500 metros y menos de 110 pisos.\n",
    "\n",
    "3. Nombre de todos los edificios que se encuentran en Asia."
   ]
  },
  {
   "cell_type": "code",
   "execution_count": 21,
   "id": "7719e0d9",
   "metadata": {
    "editable": true,
    "slideshow": {
     "slide_type": ""
    },
    "tags": []
   },
   "outputs": [
    {
     "data": {
      "text/plain": [
       "<Element rascacielos at 0x222bedef080>"
      ]
     },
     "execution_count": 21,
     "metadata": {},
     "output_type": "execute_result"
    }
   ],
   "source": [
    "from lxml import etree\n",
    "\n",
    "tree = etree.parse(\"./datos/4_XML/rascacielos.xml\")\n",
    "tree\n",
    "root = tree.getroot()\n",
    "root"
   ]
  },
  {
   "cell_type": "code",
   "execution_count": 22,
   "id": "8480c911-51dd-4a72-968b-2c0fe5ec9e27",
   "metadata": {
    "editable": true,
    "slideshow": {
     "slide_type": ""
    },
    "tags": []
   },
   "outputs": [
    {
     "name": "stdout",
     "output_type": "stream",
     "text": [
      "828\n",
      "509\n",
      "442\n",
      "423\n"
     ]
    }
   ],
   "source": [
    "# 1. Altura de los edificios construidos hasta 2010.\n",
    "\n",
    "edificios_alturas = root.xpath(\"//edificio/datos[completado <= 2010]/altura/text()\")\n",
    "for altura in edificios_alturas:\n",
    "    print(altura)\n"
   ]
  },
  {
   "cell_type": "code",
   "execution_count": 26,
   "id": "6df27864-7073-477a-b7b4-d595aef588b5",
   "metadata": {
    "editable": true,
    "slideshow": {
     "slide_type": ""
    },
    "tags": []
   },
   "outputs": [
    {
     "name": "stdout",
     "output_type": "stream",
     "text": [
      "2014\n",
      "2004\n"
     ]
    }
   ],
   "source": [
    "# 2. Años en los que se completaron rascacielos de más de 500 metros y menos de 110 pisos.\n",
    "\n",
    "anios = root.xpath(\"//edificio/datos[altura > 500 and pisos < 110]/completado/text()\")\n",
    "for a in anios:\n",
    "    print(a)"
   ]
  },
  {
   "cell_type": "code",
   "execution_count": 29,
   "id": "a8d86125-4c9e-41b3-a6fb-c7374a50d93a",
   "metadata": {
    "editable": true,
    "slideshow": {
     "slide_type": ""
    },
    "tags": []
   },
   "outputs": [
    {
     "name": "stdout",
     "output_type": "stream",
     "text": [
      "Burj Khalifa\n",
      "Shanghái Tower\n",
      "CTF Finance Centre\n",
      "Taipéi 101\n",
      "Shanghái World Financial Center\n"
     ]
    }
   ],
   "source": [
    "# 3. Nombre de todos los edificios que se encuentran en Asia.\n",
    "asiticos = root.xpath(\"//edificio[ciudad = //continente[@nombre='Asia']//ciudad]/nombre/text()\")\n",
    "\n",
    "for asiatico in asiticos:\n",
    "    print(asiatico)"
   ]
  },
  {
   "cell_type": "markdown",
   "id": "640a05c8-3d7b-4dea-8e49-7690e775b5e6",
   "metadata": {},
   "source": [
    "### Ejercicio 2\n",
    "\n",
    "Dado el siguiente archivo con de músicos y bandas argentinas escribir un programa en Python que devuelva:\n",
    "\n",
    "1. Todos los músicos nacidos en Argentina antes de 1960.\n",
    "\n",
    "2. Todos los músicos vivos (que no tienen fecha de muerte)\n",
    "\n",
    "3. Todos los músicos (datos completos: nombre, fecha y país) que integran actualmente alguna banda (banda sin fecha de disolución)"
   ]
  },
  {
   "cell_type": "code",
   "execution_count": 52,
   "id": "678d4f61-ccb2-4afc-8a83-f159168811fc",
   "metadata": {
    "editable": true,
    "slideshow": {
     "slide_type": ""
    },
    "tags": []
   },
   "outputs": [],
   "source": [
    "from lxml import etree\n",
    "\n",
    "tree = etree.parse(\"./datos/4_XML/musica.xml\")\n",
    "tree\n",
    "root = tree.getroot()"
   ]
  },
  {
   "cell_type": "code",
   "execution_count": 51,
   "id": "9ce2232d-7729-4e24-80ab-be4f4a59a770",
   "metadata": {},
   "outputs": [
    {
     "name": "stdout",
     "output_type": "stream",
     "text": [
      "Charly Garcia\n",
      "Ricardo Jorge Mollo\n",
      "Diego Arnedo\n"
     ]
    }
   ],
   "source": [
    "# 1. Todos los músicos nacidos en Argentina antes de 1960.\n",
    "musicos_arg = root.xpath('//musico[ pais = \"Argentina\" and fechas/@nacimiento < 1960 ]/nombre/text()')\n",
    "\n",
    "for m in musicos_arg:\n",
    "    print(m)"
   ]
  },
  {
   "cell_type": "code",
   "execution_count": 50,
   "id": "0a309767-3c13-4269-89fb-c98d86338553",
   "metadata": {},
   "outputs": [
    {
     "name": "stdout",
     "output_type": "stream",
     "text": [
      "Charly Garcia\n",
      "Roberto Pettinato\n",
      "Ricardo Jorge Mollo\n",
      "Diego Arnedo\n"
     ]
    }
   ],
   "source": [
    "# 2. Todos los músicos vivos (que no tienen fecha de muerte)\n",
    "vivos = root.xpath('//musico[not(fechas/@muerte)]/nombre/text()')\n",
    "for m in vivos:\n",
    "    print(m)"
   ]
  },
  {
   "cell_type": "code",
   "execution_count": 57,
   "id": "7a20ca79-a399-4def-b0dd-d1ee3e540ad5",
   "metadata": {},
   "outputs": [
    {
     "name": "stdout",
     "output_type": "stream",
     "text": [
      "{'id': 'Mollo', 'nombre': 'Ricardo Jorge Mollo', 'pais': 'Argentina', 'nacimiento': '1957', 'muerte': None}\n",
      "{'id': 'Arnedo', 'nombre': 'Diego Arnedo', 'pais': 'Argentina', 'nacimiento': '1954', 'muerte': None}\n"
     ]
    }
   ],
   "source": [
    "# 3. Todos los músicos (datos completos: nombre, fecha y país) que integran actualmente alguna banda (banda sin fecha de disolución)\n",
    "musicos_en_bandas = root.xpath(\n",
    "    '//musico[@id = //banda[not(fechas/@disolucion)]//integrante/@id]'\n",
    "    )\n",
    "\n",
    "for m in musicos_en_bandas:\n",
    "    datos = {\n",
    "        \"id\": m.get(\"id\"),\n",
    "        \"nombre\": m.findtext(\"nombre\"),\n",
    "        \"pais\": m.findtext(\"pais\"),\n",
    "        \"nacimiento\": m.find(\"fechas\").get(\"nacimiento\"),\n",
    "        \"muerte\": m.find(\"fechas\").get(\"muerte\"),\n",
    "    }\n",
    "    print(datos)"
   ]
  },
  {
   "cell_type": "markdown",
   "id": "9a94a3a3-b245-4e2d-8e6a-bf387ef37094",
   "metadata": {},
   "source": [
    "### Ejercicio 3\n",
    "\n",
    "Dado el siguiente archivo xml con datos de distribuciones Linux, escribir un programa en Python que devuelva: \n",
    "\n",
    "1. Versiones que se publicaron después de mayo de 2018.\n",
    "\n",
    "2. Distribuciones publicadas con kérneles de 2017.\n",
    "\n",
    "3. Escritorios utilizado por distribuciones derivadas de Ubuntu."
   ]
  },
  {
   "cell_type": "code",
   "execution_count": 84,
   "id": "11e0c631-0a03-4f98-915a-2dd2aabd328d",
   "metadata": {
    "editable": true,
    "slideshow": {
     "slide_type": ""
    },
    "tags": []
   },
   "outputs": [
    {
     "data": {
      "text/plain": [
       "<lxml.etree._ElementTree at 0x222bf4b67c0>"
      ]
     },
     "execution_count": 84,
     "metadata": {},
     "output_type": "execute_result"
    }
   ],
   "source": [
    "from lxml import etree\n",
    "\n",
    "tree = etree.parse(\"./datos/4_XML/software-libre.xml\")\n",
    "tree"
   ]
  },
  {
   "cell_type": "code",
   "execution_count": 65,
   "id": "fe56f81f-14a7-4a5d-910b-9ac9856d92d1",
   "metadata": {},
   "outputs": [
    {
     "name": "stdout",
     "output_type": "stream",
     "text": [
      "('mint', '19', '2018', '6')\n"
     ]
    }
   ],
   "source": [
    "# 1. Versiones que se publicaron después de mayo de 2018.\n",
    "\n",
    "def dsp_2018(root):\n",
    "    lanzamientos = root.xpath('//lanzamiento[(@año>2018) or (@año = 2018 and @mes > 5)]')\n",
    "\n",
    "    return [ \n",
    "        (lanz.get(\"distribucion\", \"\"), lanz.get(\"version\", \"\"), lanz.get(\"año\", \"\"), lanz.get(\"mes\", \"\") ) \n",
    "        for lanz in lanzamientos]\n",
    "\n",
    "vs = dsp_2018(tree.getroot())\n",
    "\n",
    "for v in vs:\n",
    "    print(v)\n"
   ]
  },
  {
   "cell_type": "code",
   "execution_count": 77,
   "id": "e221003b-5971-4e3f-914f-781e863289f1",
   "metadata": {},
   "outputs": [
    {
     "name": "stdout",
     "output_type": "stream",
     "text": [
      "{'distribucion': 'manjaro', 'version': '17.1', 'kernel': '4.14'}\n",
      "{'distribucion': 'mint', 'version': '18.3', 'kernel': '4.10'}\n",
      "{'distribucion': 'ubuntu', 'version': '17.10', 'kernel': '4.13'}\n"
     ]
    }
   ],
   "source": [
    "# 2. Distribuciones publicadas con kérneles de 2017.\n",
    "root = tree.getroot()\n",
    "distri = root.xpath('//lanzamiento [@kernel = //kernel[@año=2017] /@id]')\n",
    "for d in distri:\n",
    "    act = {\n",
    "        \"distribucion\": d.get(\"distribucion\", \"\"),\n",
    "        \"version\": d.get(\"version\", \"\"),\n",
    "        \"kernel\": d.get(\"kernel\", \"\")\n",
    "    }\n",
    "    print(act)"
   ]
  },
  {
   "cell_type": "code",
   "execution_count": 91,
   "id": "293c33d0-7e20-4fce-bd31-ff13b6e95f28",
   "metadata": {},
   "outputs": [
    {
     "name": "stdout",
     "output_type": "stream",
     "text": [
      "{'nombre': 'cinnamon', 'nacimiento': '2011', 'web': 'https://cinnamon-spices.linuxmint.com/'}\n"
     ]
    }
   ],
   "source": [
    "# 3. Escritorios utilizado por distribuciones derivadas de Ubuntu\n",
    "root  = tree.getroot()\n",
    "escritorios = root.xpath(\n",
    "    '//escritorio[@id = //lanzamiento[@distribucion = //distribucion[derivada = \"ubuntu\"]/@id ]/@escritorio ]'\n",
    "    )\n",
    "\n",
    "for e in escritorios:\n",
    "    act = {\n",
    "        \"nombre\": e.get(\"id\", \"\"),\n",
    "        \"nacimiento\": e.findtext(\"nacimiento\"),\n",
    "        \"web\": e.findtext(\"web\")\n",
    "    }\n",
    "    print(act)"
   ]
  },
  {
   "cell_type": "markdown",
   "id": "66a79514-65ef-4bd6-afb4-36524cd1034b",
   "metadata": {},
   "source": [
    "### Ejercicio 4\n",
    "\n",
    "Dado el siguiente archivo xml con datos de coches europeos, escribir un programa en Python que devuelva:\n",
    "\n",
    "1. Marca de los coches del año.\n",
    "\n",
    "2. Tamaño de los coches que se dejaron de fabricar en 2005.\n",
    "\n",
    "3. Marcas de los coches de tamaño subcompact"
   ]
  },
  {
   "cell_type": "code",
   "execution_count": 11,
   "id": "a094a8b9-fa3e-4e3d-93a6-e74c38534ef0",
   "metadata": {
    "editable": true,
    "slideshow": {
     "slide_type": ""
    },
    "tags": []
   },
   "outputs": [
    {
     "data": {
      "text/plain": [
       "<Element coches at 0x250cf5f5f40>"
      ]
     },
     "execution_count": 11,
     "metadata": {},
     "output_type": "execute_result"
    }
   ],
   "source": [
    "from lxml import etree\n",
    "\n",
    "tree = etree.parse(\"./datos/4_XML/vehiculos.xml\")\n",
    "tree\n",
    "root= tree.getroot()\n",
    "root"
   ]
  },
  {
   "cell_type": "code",
   "execution_count": 8,
   "id": "c70fd3d0-17fc-4501-987f-dd0243f97183",
   "metadata": {
    "editable": true,
    "slideshow": {
     "slide_type": ""
    },
    "tags": []
   },
   "outputs": [
    {
     "name": "stdout",
     "output_type": "stream",
     "text": [
      "Renault\n",
      "Volkswagen\n",
      "Peugeot\n"
     ]
    }
   ],
   "source": [
    "# 1. Marca de los coches del año.\n",
    "marcas = root.xpath(\n",
    "    '//marca[@nombre = //modelo[@nombre = //caroftheyear/@modelo]/@marca]'\n",
    ")\n",
    "\n",
    "for m in marcas:\n",
    "    \n",
    "    print(m.get(\"nombre\", \"no tiene nombre\"))"
   ]
  },
  {
   "cell_type": "code",
   "execution_count": 17,
   "id": "3d546752-cd5d-4341-acd7-265b871b8cac",
   "metadata": {
    "editable": true,
    "slideshow": {
     "slide_type": ""
    },
    "tags": []
   },
   "outputs": [
    {
     "name": "stdout",
     "output_type": "stream",
     "text": [
      "compact\n",
      "mid-size\n"
     ]
    }
   ],
   "source": [
    "# 2. Tamaño de los coches que se dejaron de fabricar en 2005.\n",
    "tam = root.xpath(\n",
    "    '//categoria[segmento = //modelo[@final = 2005]/@categoria]/size/text()'\n",
    "    )\n",
    "\n",
    "for m in tam:\n",
    "    \n",
    "    print(m)"
   ]
  },
  {
   "cell_type": "code",
   "execution_count": null,
   "id": "5c56ee1f-6815-4368-b337-4773604d948c",
   "metadata": {},
   "outputs": [
    {
     "name": "stdout",
     "output_type": "stream",
     "text": [
      "Renault\n"
     ]
    }
   ],
   "source": [
    "# 3. Marcas de los coches de tamaño subcompact\n",
    "\n",
    "marcas = root.xpath(\n",
    "    \"//marca[@nombre = \"\n",
    "    \"//modelo[@categoria = //categoria[size/text()='subcompact']/segmento]/@marca]\"\n",
    ")\n",
    "\n",
    "for m in marcas:\n",
    "    print(m.get(\"nombre\", \"no tiene nombre\"))"
   ]
  },
  {
   "cell_type": "markdown",
   "id": "58216bd6-0afa-4d15-97fb-872548cba783",
   "metadata": {},
   "source": [
    "### Ejercicio 5\n",
    "\n",
    "Escribir un programa en Python que tome un archivo XML con un formato arbitrario y devuelva un archivo JSON donde cada una de las etiquetas del XML se convierte en una clave en JSON.\n",
    "\n",
    "Las etiquetas XML pueden tener atributos en ese caso debe preceder el nombre de la clave con `@` en el archivo json.\n",
    "\n",
    "Como las etiquetas se pueden repetir se debe usar una lista para almacenar el texto de las etiquetas.\n",
    "\n",
    "Ver el siguiente ejemplo:\n",
    "\n",
    "**XML**\n",
    "\n",
    "```xml\n",
    "<biblioteca sede=\"Caseros\">\n",
    "  <libro id=\"1\" precio=300>\n",
    "    <titulo>El Quijote</titulo>\n",
    "    <autor>Cervantes</autor>\n",
    "    <anio>1605</anio>\n",
    "  </libro>\n",
    "  <libro id=\"2\">\n",
    "    <titulo>XML from Scratch</titulo>\n",
    "    <autor>Rojo</autor>\n",
    "    <autor>Becker</autor>\n",
    "    <anio>1949</anio>\n",
    "  </libro>\n",
    "</biblioteca>\n",
    "```\n",
    "\n",
    "**JSON**\n",
    "\n",
    "```json\n",
    "{\n",
    "  \"biblioteca\": {\n",
    "    \"@sede\": \"Caseros\",\n",
    "    \"children\": [\n",
    "      {\n",
    "        \"libro\": {\n",
    "          \"@id\": \"1\",\n",
    "          \"@precio\": \"300\",\n",
    "          \"children\": [\n",
    "            { \"titulo\": { \"text\": \"El Quijote\" } },\n",
    "            { \"autor\": { \"text\": \"Cervantes\" } },\n",
    "            { \"anio\": { \"text\": \"1605\" } }\n",
    "          ]\n",
    "        }\n",
    "      },\n",
    "      {\n",
    "        \"libro\": {\n",
    "          \"@id\": \"2\",\n",
    "          \"children\": [\n",
    "            { \"titulo\": { \"text\": \"XML from Scratch\" } },\n",
    "            { \"autor\": { \"text\": \"Rojo\" } },\n",
    "            { \"autor\": { \"text\": \"Becker\" } },\n",
    "            { \"anio\": { \"text\": \"1949\" } }\n",
    "          ]\n",
    "        }\n",
    "      }\n",
    "    ]\n",
    "  }\n",
    "}\n",
    "```"
   ]
  },
  {
   "cell_type": "code",
   "execution_count": null,
   "id": "ef5684e6-e72b-4cf1-9a51-77b2e7c3c8c2",
   "metadata": {
    "editable": true,
    "slideshow": {
     "slide_type": ""
    },
    "tags": []
   },
   "outputs": [],
   "source": [
    "import json\n",
    "from pprint import pprint\n",
    "from lxml import etree\n",
    "\n",
    "\n",
    "def xml2json(xml_path, json_path = \"./datos/4_XML/rascacielos.json\"):\n",
    "    root = etree.parse(xml_path).getroot()\n",
    "    data = {root.tag: nodo_a_dic(root)}\n",
    "\n",
    "    with open(json_path, \"w\", encoding=\"utf-8\") as f:\n",
    "        json.dump(data, f, indent=2, ensure_ascii=False)\n",
    "\n",
    "def nodo_a_dic(element):\n",
    "    \n",
    "    dic = {}\n",
    "    #convierte los atributos\n",
    "    for k,v in element.attrib.items():\n",
    "        dic[f'@{k}'] = v\n",
    "    \n",
    "    #Obtenemos el texto y lo limpiamos --> si queda algo lo agregamos\n",
    "    texto = (element.text or \"\").strip()\n",
    "    if texto:\n",
    "        dic[\"text\"] = texto\n",
    "\n",
    "    #repetimos para cada hijo\n",
    "    for hijo in element:\n",
    "        hijo_dict = {hijo.tag: nodo_a_dic(hijo)}\n",
    "        dic.setdefault(\"children\", []).append(hijo_dict)\n",
    "\n",
    "\n",
    "    return dic\n",
    "\n",
    "    \n",
    "\n",
    "\n",
    "xml2json(\"./datos/4_XML/rascacielos.xml\")\n",
    "\n",
    "try:\n",
    "    with open(\"./datos/4_XML/rascacielos.json\", \"r\", encoding=\"utf-8\") as f:\n",
    "        #pprint(json.load(f))\n",
    "        pass\n",
    "except FileNotFoundError as e:\n",
    "    print(e)\n",
    "\n",
    "xml2json(\"./datos/4_XML/bibloteca.xml\", \"./datos/4_XML/bibloteca.json\" )"
   ]
  },
  {
   "cell_type": "markdown",
   "id": "81cdcc9a",
   "metadata": {
    "editable": true,
    "slideshow": {
     "slide_type": ""
    },
    "tags": []
   },
   "source": [
    "### Ejercicio 6\n",
    "\n",
    "Consultar las últimas noticias del diario \"El País\" de España y escribir un programa en Python que devuelva\n",
    "\n",
    "1. Cantidad de artículos que hablan de política (buscar en `category` política, políticas, político, políticos)\n",
    "\n",
    "2. Cantidad de artículos que hablan de deportes (buscar en `category` deportes, deportivo, deportivos, fútbol, tenis, básquet, rugby)\n",
    "\n",
    "3. Cantidad de artículos que hablan de economía (buscar en `category` economía, economista, económicos)\n",
    "\n",
    "Feed RSS: https://feeds.elpais.com/mrss-s/pages/ep/site/elpais.com/section/ultimas-noticias/portada\n",
    "\n",
    "> Pista: usar `lxml` directamente sobre el string del feed para recorrerlo con `xpath`."
   ]
  },
  {
   "cell_type": "code",
   "execution_count": null,
   "id": "5ad64311",
   "metadata": {},
   "outputs": [
    {
     "name": "stdout",
     "output_type": "stream",
     "text": [
      "<Element rss at 0x250cfc99740>\n"
     ]
    }
   ],
   "source": [
    "import requests\n",
    "from lxml import etree\n",
    "\n",
    "rss_url = \"https://feeds.elpais.com/mrss-s/pages/ep/site/elpais.com/section/ultimas-noticias/portada\"\n",
    "xml = requests.get(rss_url).content\n",
    "root = etree.fromstring(xml)\n"
   ]
  },
  {
   "cell_type": "code",
   "execution_count": 69,
   "id": "a762c899",
   "metadata": {},
   "outputs": [
    {
     "name": "stdout",
     "output_type": "stream",
     "text": [
      "Rob Jetten, el joven liberal que ha dado un susto a la ultraderecha y aspira a gobernar Países Bajos  --- fecha: Fri, 31 Oct 2025 17:33:26 GMT\n",
      "La Audiencia Nacional ordena evaluar el estado de salud de Jordi Pujol ante su próximo juicio --- fecha: Fri, 31 Oct 2025 15:25:37 GMT\n",
      "2\n"
     ]
    }
   ],
   "source": [
    "# 1. Cantidad de artículos que hablan de política (buscar en `category` política, políticas, político, políticos)\n",
    "arts = root.xpath(\"//item[category='Política' or category='Políticas' or category='Político' or category='Políticos']\")\n",
    "\n",
    "for a in arts:\n",
    "    titulo = a.findtext(\"title\")\n",
    "    fecha = a.findtext(\"pubDate\")\n",
    "    print(f\"{titulo} --- fecha: {fecha}\")\n",
    "    \n",
    "print(len(arts))\n"
   ]
  },
  {
   "cell_type": "code",
   "execution_count": 75,
   "id": "9311503b",
   "metadata": {},
   "outputs": [
    {
     "name": "stdout",
     "output_type": "stream",
     "text": [
      "María Escario: “El derrame cerebral me dio en un ‘photocall’, yo he sido adicta al trabajo”  --- fecha: Fri, 31 Oct 2025 15:00:00 GMT\n",
      "Mbappé recoge la Bota de Oro: “Gracias a los compañeros por sacar la mejor versión de Kylian” --- fecha: Fri, 31 Oct 2025 15:51:56 GMT\n",
      "Shengelia rescata al Barça en Belgrado y Baskonia cierra su semana perfecta en la Euroliga --- fecha: Fri, 31 Oct 2025 22:15:30 GMT\n",
      "La investigación que llevó a la suspensión por dopaje del ciclista Oier Lazkano --- fecha: Fri, 31 Oct 2025 17:57:56 GMT\n",
      "Tadas Sedekerskis, capitán del Baskonia: “Siento una presión extra porque amo esta ciudad y este club” --- fecha: Fri, 31 Oct 2025 12:24:12 GMT\n",
      "La historia de Kelme, la marca española que vistió al Real Madrid o Conchita Martínez y que pasó a manos de un fabricante chino --- fecha: Fri, 31 Oct 2025 12:24:08 GMT\n",
      "Mbappé recoge la Bota de Oro: “Gracias a los compañeros por sacar la mejor versión de Kylian” --- fecha: Fri, 31 Oct 2025 15:51:56 GMT\n",
      "La historia de Kelme, la marca española que vistió al Real Madrid o Conchita Martínez y que pasó a manos de un fabricante chino --- fecha: Fri, 31 Oct 2025 12:24:08 GMT\n"
     ]
    }
   ],
   "source": [
    "# 2. Cantidad de artículos que hablan de deportes (buscar en `category` deportes, deportivo, deportivos, fútbol, tenis, básquet, rugby)\n",
    "palabras = [\"Deportes\", \"Deportivo\", \"Deportivos\", \"Fútbol\", \"Tenis\", \"Básquet\", \"Rugby\"]\n",
    "arts = []\n",
    "for p in palabras:\n",
    "    arts_act = root.xpath(f'//item[category = \"{p}\"]')\n",
    "\n",
    "    arts.extend(arts_act)\n",
    "\n",
    "for a in arts:\n",
    "    titulo = a.findtext(\"title\")\n",
    "    fecha = a.findtext(\"pubDate\")\n",
    "    print(f\"{titulo} --- fecha: {fecha}\")\n",
    "\n"
   ]
  },
  {
   "cell_type": "code",
   "execution_count": 81,
   "id": "f430cc6a",
   "metadata": {},
   "outputs": [
    {
     "name": "stdout",
     "output_type": "stream",
     "text": [
      "Amazon plantea un ERE en España para 1.200 trabajadores de sus oficinas corporativas de Madrid y Barcelona --- fecha: Fri, 31 Oct 2025 15:56:53 GMT\n",
      "Revés a Sacyr en Washington: no habrá arbitraje contra Panamá por la ampliación del Canal --- fecha: Fri, 31 Oct 2025 20:22:52 GMT\n",
      "Panamá acogerá en enero el segundo ‘Davos latinoamericano’  --- fecha: Fri, 31 Oct 2025 18:47:22 GMT\n",
      "El desempleo femenino en Colombia cae por primera vez a una cifra de un solo dígito --- fecha: Fri, 31 Oct 2025 18:20:50 GMT\n",
      "El PP europeo propone un euro digital desinflado frente a la ambición del BCE y la Comisión Europea  --- fecha: Fri, 31 Oct 2025 11:46:11 GMT\n"
     ]
    }
   ],
   "source": [
    "# 3. Cantidad de artículos que hablan de economía (buscar en `category` economía, economista, económicos)\n",
    "palabras = [\"Economía\", \"Economista\", \"Económicos\"]\n",
    "condicion = \" or \".join([f'category=\"{p}\"' for p in palabras])\n",
    "\n",
    "arts_act = root.xpath(f'//item[{condicion}]')\n",
    "for a in arts_act:\n",
    "    titulo = a.findtext(\"title\")\n",
    "    fecha = a.findtext(\"pubDate\")\n",
    "    print(f\"{titulo} --- fecha: {fecha}\")"
   ]
  }
 ],
 "metadata": {
  "kernelspec": {
   "display_name": "Python 3",
   "language": "python",
   "name": "python3"
  },
  "language_info": {
   "codemirror_mode": {
    "name": "ipython",
    "version": 3
   },
   "file_extension": ".py",
   "mimetype": "text/x-python",
   "name": "python",
   "nbconvert_exporter": "python",
   "pygments_lexer": "ipython3",
   "version": "3.13.7"
  }
 },
 "nbformat": 4,
 "nbformat_minor": 5
}
